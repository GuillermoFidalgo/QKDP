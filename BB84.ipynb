{
 "cells": [
  {
   "cell_type": "markdown",
   "metadata": {
    "colab_type": "text",
    "id": "view-in-github"
   },
   "source": [
    "<a href=\"https://colab.research.google.com/github/GuillermoFidalgo/QKDP/blob/master/BB84.ipynb\" target=\"_parent\"><img src=\"https://colab.research.google.com/assets/colab-badge.svg\" alt=\"Open In Colab\"/></a>"
   ]
  },
  {
   "cell_type": "markdown",
   "metadata": {
    "colab_type": "text",
    "id": "lLtgnw6Q5TSD"
   },
   "source": [
    "# Code for BB84  protocol\n",
    "## Defining classes"
   ]
  },
  {
   "cell_type": "code",
   "execution_count": 1,
   "metadata": {},
   "outputs": [],
   "source": [
    "# Setup\n",
    "import numpy as np\n",
    "import matplotlib.pyplot as plt\n",
    "import random\n",
    "import string\n",
    "import os\n",
    "import dataclasses"
   ]
  },
  {
   "cell_type": "code",
   "execution_count": 123,
   "metadata": {},
   "outputs": [],
   "source": [
    "@dataclasses.dataclass\n",
    "class Qubit:\n",
    "    \"\"\"\n",
    "    Data class which represents the qubit and its quantum state.\n",
    "    Quantum state is given by:\n",
    "    |psi> = cos(theta/2) |0> + e^{i*phi} * sin(theta/2) |1>\n",
    "    \"\"\"\n",
    "\n",
    "    def __init__(self, theta, phi, base):\n",
    "        self.base = base\n",
    "        self.state = np.array([\n",
    "            np.cos(theta/2),\n",
    "            np.exp(1j * phi) * np.sin(theta/2)\n",
    "        ])\n",
    "\n",
    "    def normalize(self):\n",
    "        self.state = self.state / np.sqrt(np.dot(np.conjugate(self.state), self.state))\n",
    "\n",
    "    def get_probs(self):\n",
    "        prob0 = (np.conjugate(self.state[0]) * self.state[0]).real\n",
    "        prob1 = (np.conjugate(self.state[1]) * self.state[1]).real\n",
    "        return prob0, prob1"
   ]
  },
  {
   "cell_type": "code",
   "execution_count": 124,
   "metadata": {},
   "outputs": [],
   "source": [
    "qubit = Qubit(0, 0, 0)"
   ]
  },
  {
   "cell_type": "code",
   "execution_count": 125,
   "metadata": {},
   "outputs": [
    {
     "data": {
      "text/plain": [
       "(1.0, 0.0)"
      ]
     },
     "execution_count": 125,
     "metadata": {},
     "output_type": "execute_result"
    }
   ],
   "source": [
    "qubit.get_probs()"
   ]
  },
  {
   "cell_type": "code",
   "execution_count": 126,
   "metadata": {},
   "outputs": [],
   "source": [
    "class Agent:\n",
    "    \"\"\"\n",
    "    Class representing the players in a quantum cryptography simulation (e.g. Alice, Eve or Bob)\n",
    "    \"\"\"\n",
    "    def __init__(self, base=0, phase=0, key=None, message=None):\n",
    "        self.base = base\n",
    "        self.phase = phase\n",
    "\n",
    "    def project(self, qubit):\n",
    "        base_delta = self.base - qubit.base\n",
    "        proj_mtrx = np.array([\n",
    "            [np.cos(base_delta),                                -1 * np.exp(-1j * self.phase) * np.sin(base_delta)],\n",
    "            [np.sin(base_delta) * np.exp(-1j * self.phase),     np.cos(base_delta)                                ]\n",
    "        ])\n",
    "        \n",
    "        qubit.state = np.dot(proj_mtrx, qubit.state)\n",
    "        qubit.normalize()\n",
    "\n",
    "        qubit.base = self.base\n",
    "\n",
    "        return qubit\n",
    "\n",
    "    def measure(self, qubit, beta, rtrn_state_probs=False):\n",
    "        \n",
    "\n",
    "    def send_quantum(self, receiverAgent, qubits):\n",
    "        pass\n",
    "    \n",
    "    def send_classic(self, receiverAgent, bits):\n",
    "        pass\n",
    "\n"
   ]
  },
  {
   "cell_type": "code",
   "execution_count": 127,
   "metadata": {},
   "outputs": [],
   "source": [
    "agent = Agent(base=np.pi/4)"
   ]
  },
  {
   "cell_type": "code",
   "execution_count": 128,
   "metadata": {},
   "outputs": [
    {
     "name": "stdout",
     "output_type": "stream",
     "text": [
      "[1.+0.j 0.+0.j]\n",
      "[0.70710678+0.j 0.70710678+0.j]\n"
     ]
    }
   ],
   "source": [
    "print(qubit.state)\n",
    "newqubit = agent.project(qubit)\n",
    "print(newqubit.state)"
   ]
  },
  {
   "cell_type": "code",
   "execution_count": 129,
   "metadata": {},
   "outputs": [
    {
     "data": {
      "text/plain": [
       "(0.5000000000000001, 0.4999999999999999)"
      ]
     },
     "execution_count": 129,
     "metadata": {},
     "output_type": "execute_result"
    }
   ],
   "source": [
    "newqubit.get_probs()"
   ]
  },
  {
   "cell_type": "markdown",
   "metadata": {},
   "source": [
    "## BB84 Protocol"
   ]
  },
  {
   "cell_type": "code",
   "execution_count": null,
   "metadata": {
    "colab": {},
    "colab_type": "code",
    "id": "aaYg6KE37ZhM"
   },
   "outputs": [],
   "source": [
    "# Function for assigning Standard (s) or Hadamard (h) measurement basis\n",
    "def choose_bases(stringLength=2):\n",
    "    \"\"\"\n",
    "    Generate a random string of fixed length\n",
    "    \"\"\"\n",
    "    basis = \"sh\"\n",
    "    return \"\".join(random.choice(basis) for i in range(stringLength))\n",
    "\n",
    "\n",
    "# Function for executing the BB84 protocol using n qubits and N check-bits\n",
    "def BB84(numqbits, numcheckbits, eve=True, strings=False):\n",
    "    \"\"\"\n",
    "    BB84(n,N)\n",
    "\n",
    "    n: Length of the initial bit-string\n",
    "\n",
    "    N: Number of bits to be used to verify the security of the key\n",
    "\n",
    "    Eve: Default True. If True, Eve will be present in the protocol. If False, Eve will not be present.\n",
    "\n",
    "    Stings: Default False. If True, return Alice's , Bob's and Eve's:\n",
    "    1- initial bit strings\n",
    "    2- keys\n",
    "    3- initial basis used\n",
    "    4- check bit sequence\n",
    "\n",
    "    --------\n",
    "\n",
    "    Returns\n",
    "\n",
    "    R: List of strings of \"OK\" and \"ABORT\" that indicate when Eve has been detected\n",
    "\n",
    "    a: List of Alice's bits\n",
    "    b: List of Bob's bits\n",
    "    e: List of Eve's bits\n",
    "    x: List of Alice's key\n",
    "    y: List of Bob's key\n",
    "    z: List of Eve's key\n",
    "\n",
    "    aa: List of Alice's bases assignments\n",
    "    bb: List of Bob's bases assignments\n",
    "    ee: List of Eve's bases assignments\n",
    "\n",
    "    xx: List of Alice's check-bits\n",
    "    yy: List of Bob's check-bits\n",
    "\n",
    "    \"\"\"\n",
    "\n",
    "    a_bits = []\n",
    "    b_bits = []\n",
    "    e_bits = []\n",
    "    a_key = []\n",
    "    b_key = []\n",
    "    e_key = []\n",
    "\n",
    "    a_bases = choose_bases(numqbits)  # Alice's bases assignment\n",
    "    b_bases = choose_bases(numqbits)  # Bob's bases assignment\n",
    "    \n",
    "    if eve == True:\n",
    "        e_bases = choose_bases(numqbits)  # Eve's bases assignment (when present)\n",
    "    else:\n",
    "        e_bases = a_bases  # When Eve's not present, she can be thought of as being present,\n",
    "        # but having exactly the same bit-string and same basis as Alice\n",
    "\n",
    "    # Generate a,b,e and x,y,z\n",
    "    for i in range(numqbits):\n",
    "        a_bits.append(random.randint(0, 1))\n",
    "\n",
    "        if e_bases[i] == a_bases[i]: # If Eve is not present\n",
    "            e_bits.append(a_bits[i])\n",
    "        else:\n",
    "            e_bits.append(random.randint(0, 1)) # If Eve is present\n",
    "\n",
    "        if b_bases[i] == e_bases[i]:\n",
    "            b_bits.append(e_bits[i]) # If Eve is present, and bases are the same between Bob and Eve, just pass qbit state to Bob\n",
    "        else:\n",
    "            b_bits.append(random.randint(0, 1)) # If Eve is present, and bases are different between Bob and Eve, Bob's qbit is in a random state\n",
    "            \n",
    "        if a_bases[i] == b_bases[i]: # \n",
    "            a_key.append(a_bits[i])\n",
    "            b_key.append(b_bits[i])\n",
    "            e_key.append(e_bits[i])\n",
    "\n",
    "    R = []\n",
    "\n",
    "    for j in numcheckbits:\n",
    "        if j <= len(a_key):\n",
    "            s = random.sample(range(len(a_key)), j)  # Choice of check-bits\n",
    "            a_checkbits = []\n",
    "            b_checkbits = []\n",
    "            for i in range(j):  # Generate xx,yy\n",
    "                a_checkbits.append(a_key[s[i]])\n",
    "                b_checkbits.append(b_key[s[i]])\n",
    "            if a_checkbits != b_checkbits:  # Check for Eve's presence\n",
    "                R.append(\"ABORT\")  # Eve detected\n",
    "            else:\n",
    "                R.append(\"OK\")  # Eve not detected\n",
    "        else:\n",
    "            break\n",
    "\n",
    "    count = 0\n",
    "    for k in range(len(a_key)):\n",
    "        if e_key[k] == a_key[k] and e_key[k] == b_key[k]:\n",
    "            count += 1\n",
    "    #     print(count)\n",
    "    guessed_bits_perc = (count / len(e_key)) * 100\n",
    "    discarded_perc = 100 * (numqbits - len(a_key)) / numqbits\n",
    "\n",
    "    if strings == False:\n",
    "        return R, discarded_perc, guessed_bits_perc\n",
    "    if strings == True:\n",
    "        return (\n",
    "            R,\n",
    "            a_bits,\n",
    "            b_bits,\n",
    "            e_bits,\n",
    "            a_bases,\n",
    "            b_bases,\n",
    "            e_bases,\n",
    "            a_key,\n",
    "            b_key,\n",
    "            e_key,\n",
    "            a_checkbits,\n",
    "            b_checkbits,\n",
    "            s, # ????\n",
    "        )\n"
   ]
  },
  {
   "cell_type": "markdown",
   "metadata": {
    "colab_type": "text",
    "id": "U_CrPCAapEl0"
   },
   "source": [
    "# One instance of BB84 checking 2 bits for security (example)"
   ]
  },
  {
   "cell_type": "code",
   "execution_count": null,
   "metadata": {
    "colab": {},
    "colab_type": "code",
    "id": "HZJvQuZguExY"
   },
   "outputs": [],
   "source": [
    "%%timeit\n",
    "R,a_bits,b_bits,e_bits,a_bases,b_bases,e_bases,a_key,b_key,e_key,xx,yy,s=BB84(128,range(3),strings=True)\n",
    "print(\"Alice's Check sequence: \",xx)\n",
    "print(\"Bob's Check sequence:   \",yy)\n",
    "print('qubits checked are # :  ',s)\n",
    "print(\"Result of Simulation: \",R[-1])"
   ]
  },
  {
   "cell_type": "code",
   "execution_count": null,
   "metadata": {
    "colab": {},
    "colab_type": "code",
    "id": "UKyUQ9FmpEmA"
   },
   "outputs": [],
   "source": [
    "print(\"Alice's keys: \",a_key)\n",
    "print()\n",
    "print(\"Bobs's keys: \",b_key)\n",
    "print()\n",
    "print(\"Eve's keys: \",e_key)\n",
    "print()\n",
    "print(\"Alice's Basis: \",a_bases)\n",
    "print()\n",
    "print(\"Bobs's Basis: \",b_bases)\n",
    "print()\n",
    "print(\"Eve's Basis: \",e_bases)"
   ]
  },
  {
   "cell_type": "markdown",
   "metadata": {
    "colab_type": "text",
    "id": "vTY8tJQ2TyVe"
   },
   "source": [
    "# Simulation of the BB84 protocol"
   ]
  },
  {
   "cell_type": "code",
   "execution_count": null,
   "metadata": {
    "colab": {},
    "colab_type": "code",
    "id": "068zU_X2Q3kR"
   },
   "outputs": [],
   "source": [
    "k1=100 #Number of iterations of BB84\n",
    "k2=100 # Sample points \n",
    "numqbits=128 #Number of qubits\n",
    "\n",
    "# a=np.arange(5)# dummy variable \n",
    "# N=2**a #Number of check-bits\n",
    "\n",
    "# In order to see the simulation with data for all values of possible checkbits uncomment the next line\n",
    "numcheckbits=np.arange(1,16)"
   ]
  },
  {
   "cell_type": "code",
   "execution_count": null,
   "metadata": {
    "colab": {},
    "colab_type": "code",
    "id": "ZuIdhWeQGOOF"
   },
   "outputs": [],
   "source": [
    "dist=np.empty([k2,len(numcheckbits)]) #Probability distribution\n",
    "avrg_discarded_perc=0\n",
    "avrg_guessed_bits_perc=0\n",
    "#Generate dist,avrg\n",
    "counter=0\n",
    "for j in range(k2):  #Loop for generating dist\n",
    "    abort=np.zeros(len(numcheckbits),int) #Number of ABORT\n",
    "    \n",
    "    for i in range(k1):  #Loop for executing BB84\n",
    "        R,discarded_perc,guessed_bits_perc=BB84(numqbits,numcheckbits)\n",
    "#         if counter % 1000 == 0:\n",
    "#             print(avrg_guessed_bits_perc)\n",
    "        avrg_discarded_perc+=discarded_perc\n",
    "        avrg_guessed_bits_perc+=guessed_bits_perc\n",
    "        counter+=1\n",
    "        for m in range(len(R)): #Loop for each N\n",
    "            if R[m]=='ABORT': #Check for ABORT results\n",
    "                abort[m]+=1\n",
    "    pabort=abort/k1  #Experimental probability of ABORT\n",
    "    dist[j]=pabort\n",
    "avrg_discarded_perc=(avrg_discarded_perc)/(k1*k2)\n",
    "avrg_guessed_bits_perc=avrg_guessed_bits_perc/(k1*k2)"
   ]
  },
  {
   "cell_type": "markdown",
   "metadata": {},
   "source": [
    "# Calculating Percentage of Bits discarded"
   ]
  },
  {
   "cell_type": "markdown",
   "metadata": {},
   "source": [
    "$$\\% \\text{ of discarded bits}=  \\frac{1}{k_1 k_2} \\sum_{i=1}^{k_1 k_2} \\frac{n-\\text{len}(x_i)}{n}\\times 100  $$"
   ]
  },
  {
   "cell_type": "markdown",
   "metadata": {},
   "source": [
    "where $n$ is the length of the initial bit-string\n",
    "\n",
    "$k_1 k_2$ is the total number of iterations\n",
    "\n",
    "$\\text{len}(x_i)$ is the length of key prior to using the check bits on the $i$-th iteration"
   ]
  },
  {
   "cell_type": "markdown",
   "metadata": {},
   "source": [
    "# Average percentage of bits that Eve guessed correctly"
   ]
  },
  {
   "cell_type": "markdown",
   "metadata": {},
   "source": [
    "$$\\% \\text{ of bits guessed by Eve}=  \\frac{1}{k_1 k_2} \\sum_{i=1}^{k_1 k_2} \\frac{c_i}{\\text{len}(z_i)}\\times 100  $$\n",
    "\n",
    "where $c_i$ is the number of correctly guessed bits \n",
    "\n",
    "$\\text{len}(z_i)$ is the length of Eve's key "
   ]
  },
  {
   "cell_type": "code",
   "execution_count": null,
   "metadata": {},
   "outputs": [],
   "source": [
    "print('average percentage of bits discarded is %.2f'%avrg_discarded_perc,'%')"
   ]
  },
  {
   "cell_type": "code",
   "execution_count": null,
   "metadata": {},
   "outputs": [],
   "source": [
    "print('average percentage of bits that Eve guessed is %.2f'%avrg_guessed_bits_perc,'%')"
   ]
  },
  {
   "cell_type": "code",
   "execution_count": null,
   "metadata": {
    "colab": {},
    "colab_type": "code",
    "id": "ZuIdhWeQGOOF"
   },
   "outputs": [],
   "source": [
    "avrg1=np.mean(dist,axis=0) #Average of each column of dist\n",
    "\n",
    "print(avrg1)"
   ]
  },
  {
   "cell_type": "markdown",
   "metadata": {},
   "source": [
    "The average percentage of discovering Eve is the same as the probability of the key being compromised"
   ]
  },
  {
   "cell_type": "markdown",
   "metadata": {},
   "source": [
    " The list above is normalized to 1. It shows the average probability of discovering Eve when varying the amount of bits to be used to verify the security of the key.\n",
    "If you just want the probability for a specific number of \"check-bits\" call `avrg1[#]` where `#` is any number from 0-14 (remember that python is 0-indexed) and therfore \n",
    "\n",
    "`avrg1[0]` = the probability of discovering Eve when **checking only 1 bit**"
   ]
  },
  {
   "cell_type": "markdown",
   "metadata": {
    "colab_type": "text",
    "id": "oJXty6UKzw1W"
   },
   "source": [
    "# Now we use Matplotlib's hist function to draw a distribution \n"
   ]
  },
  {
   "cell_type": "markdown",
   "metadata": {
    "colab_type": "text",
    "id": "_NaTnIpiGOOU"
   },
   "source": [
    "## Configuration of the plots"
   ]
  },
  {
   "cell_type": "code",
   "execution_count": null,
   "metadata": {
    "colab": {},
    "colab_type": "code",
    "id": "02ceqNtfyHBd"
   },
   "outputs": [],
   "source": [
    "#Where to store the plots\n",
    "outpath='plots_BB84'\n",
    "\n",
    "#Check if folder exists\n",
    "if outpath not in os.listdir(): \n",
    "    os.mkdir(outpath)\n",
    "else: \n",
    "    print(outpath,'already exists!')\n",
    "\n",
    "\n",
    "#Configuration for the plots\n",
    "start = 0\n",
    "stop  = 1\n",
    "step  = .05\n",
    "bins=np.linspace(start, stop, num=150)\n",
    "    "
   ]
  },
  {
   "cell_type": "markdown",
   "metadata": {
    "colab_type": "text",
    "id": "DEwW5uZqGOOn"
   },
   "source": [
    "## For one plot"
   ]
  },
  {
   "cell_type": "code",
   "execution_count": null,
   "metadata": {
    "colab": {},
    "colab_type": "code",
    "id": "UCiJnbN_GOOx"
   },
   "outputs": [],
   "source": [
    "    \n",
    "#Making 1 single plot\n",
    "#Specifing qb changes the plot\n",
    "\n",
    "qb=1\n",
    "# qb is the amount of qubits to inspect UNLESS you changed the parameter lines at the simulation stage\n",
    "# Keep in mind that python is 0-indexed  1 does NOT mean 1 qubit\n",
    "\n",
    "\n",
    "\n",
    "plt.figure(num=qb,dpi=200)\n",
    "count,val,_=plt.hist(dist[:,qb],bins=bins,align='left',histtype='step')\n",
    "plt.vlines(x=avrg1[qb],ymin=0,ymax=max(count),label=\"Average Value\",alpha=.63,linestyles='dashed')\n",
    "\n",
    "plt.xticks(np.arange(start, stop+step, 2*step))\n",
    "plt.legend()\n",
    "plt.xlabel('Probability of discovering Eve when using %i check-bits' %numcheckbits[qb],fontsize=12)\n",
    "plt.ylabel('Frequency',fontsize=12)\n",
    "plt.xlim(0.01,1.0)\n",
    "plt.title('BB84 protocol using %i qubits'%numqbits)\n",
    "\n",
    "plt.savefig(outpath+'/'+'BB84-dist with %i check-bits.png'%numcheckbits[qb],dpi=200)\n",
    "plt.show()\n",
    "plt.close()"
   ]
  },
  {
   "cell_type": "markdown",
   "metadata": {
    "colab_type": "text",
    "id": "7Dsb4Q5MGOO-"
   },
   "source": [
    "## For all plots individually"
   ]
  },
  {
   "cell_type": "code",
   "execution_count": null,
   "metadata": {
    "colab": {},
    "colab_type": "code",
    "id": "HJK9OpgjGOPA",
    "scrolled": true
   },
   "outputs": [],
   "source": [
    "for qb in range(len(numcheckbits)):\n",
    "    count,val=[],[]\n",
    "    plt.figure(num=qb,dpi=200)\n",
    "    count,val,_=plt.hist(dist[:,qb],bins=bins,align='left',histtype='step' )\n",
    "    plt.vlines(x=avrg1[qb],ymin=0,ymax=max(count),label=\"Average Value\",linestyles=\"dashed\",alpha=0.63)\n",
    "    plt.xticks(np.arange(start, stop+step, 2*step))\n",
    "    plt.xlabel('Probability of discovering Eve when using %i check-bits' %numcheckbits[qb])\n",
    "    plt.ylabel('Frequency')\n",
    "    plt.xlim(0.01,1.0)\n",
    "    plt.title('BB84 protocol using %i qubits'%numqbits)\n",
    "    plt.savefig(outpath+'/'+'BB84-dist with %i check-bits'%numcheckbits[qb],dpi=200)\n",
    "    plt.show()\n",
    "    plt.close()"
   ]
  },
  {
   "cell_type": "markdown",
   "metadata": {
    "colab_type": "text",
    "id": "mwXx17HLGOPM"
   },
   "source": [
    "## This part is completely optional if you want a closer look at the individual distributions"
   ]
  },
  {
   "cell_type": "code",
   "execution_count": null,
   "metadata": {
    "colab": {},
    "colab_type": "code",
    "id": "kNiJ0v5Gz9xr",
    "jupyter": {
     "outputs_hidden": true
    }
   },
   "outputs": [],
   "source": [
    "for qb in range(len(numcheckbits)):\n",
    "    count,val=[],[]\n",
    "    plt.figure(num=qb,dpi=200)\n",
    "    count,val,_=plt.hist(dist[:,qb],bins=50,align='left',histtype='step' )\n",
    "    ll=['%.3f' %a for a in val]\n",
    "    plt.xticks(ticks=val[::5],labels=ll[::5],fontsize=8)\n",
    "    plt.yticks(fontsize=8)\n",
    "    plt.xlabel('Probability of discovering Eve when using %i check-bits' %numcheckbits[qb])\n",
    "    plt.ylabel('Frequency')\n",
    "    plt.title('BB84 protocol using %i qubits'%numqbits)\n",
    "    plt.savefig(outpath+'/'+'CloserLook_BB84-dist with %i check-bits'%numcheckbits[qb],dpi=200)\n",
    "    plt.show()\n",
    "    plt.close()"
   ]
  },
  {
   "cell_type": "markdown",
   "metadata": {
    "colab_type": "text",
    "id": "GOiePP4uGOPc"
   },
   "source": [
    "## A few of them together"
   ]
  },
  {
   "cell_type": "code",
   "execution_count": null,
   "metadata": {
    "colab": {},
    "colab_type": "code",
    "id": "eiYWP0vPyl8N"
   },
   "outputs": [],
   "source": [
    "plt.figure(dpi=200)\n",
    "start = 0\n",
    "stop  = 1\n",
    "step  = .05\n",
    "bins=np.linspace(start, stop, num=150)\n",
    "\n",
    "numcheckbits=np.arange(1,16)\n",
    "\n",
    "for qb in range(0,len(numcheckbits),3):\n",
    "    count,val,_=plt.hist(dist[:,qb],align='left',histtype='stepfilled',label='Probability using %i check-bits' %numcheckbits[qb],bins=bins )\n",
    "    plt.vlines(x=avrg1[qb],ymin=0,ymax=max(count), colors='k', linestyles='dashed',alpha=.63)\n",
    "\n",
    "plt.vlines(x=avrg1[0],ymin=0,ymax=.001, colors='k', linestyles='dashed',  label='Average Values',alpha=.63)\n",
    "plt.xticks(np.arange(start, stop+step, 2*step),fontsize=10)\n",
    "plt.yticks(fontsize=10)\n",
    "plt.xlabel('Probability of discovering Eve',fontsize=10)\n",
    "plt.ylabel('Frequency',fontsize=12)\n",
    "plt.xlim(0.05,1.0)\n",
    "# plt.grid(axis='x')\n",
    "plt.legend(shadow=True,fontsize=7,bbox_to_anchor=(1.015,.5), loc=\"center left\",borderaxespad=0)\n",
    "plt.title('BB84 protocol using %i qubits'%numqbits , fontsize=14)\n",
    "plt.savefig(outpath+'/'+'BB84-dist-superimposed',dpi=200,bbox_inches=\"tight\")\n",
    "plt.show()\n",
    "plt.close()"
   ]
  },
  {
   "cell_type": "markdown",
   "metadata": {},
   "source": [
    "## Theoretical values of the probability of finding Eve"
   ]
  },
  {
   "cell_type": "code",
   "execution_count": null,
   "metadata": {
    "colab": {},
    "colab_type": "code",
    "id": "eKB5yZeQpEm3",
    "scrolled": true
   },
   "outputs": [],
   "source": [
    "N1=np.arange(1,16)\n",
    "P=1-(.75)**N1\n",
    "print(P)"
   ]
  },
  {
   "cell_type": "markdown",
   "metadata": {
    "colab_type": "text",
    "id": "WPynFhP5GOP3"
   },
   "source": [
    "## Errors between our theoretical values and our simulation values for the probabilities of detecting Eve"
   ]
  },
  {
   "cell_type": "code",
   "execution_count": null,
   "metadata": {
    "colab": {},
    "colab_type": "code",
    "id": "zxbNjYlMpEm7"
   },
   "outputs": [],
   "source": [
    "# Absolute Error\n",
    "abserr=np.abs(avrg1-P)\n",
    "\n",
    "# Percentage Error\n",
    "percenterr=(abserr/P)*100\n",
    "print('\\n    Percentage of Error       Absolute Error')\n",
    "count=1\n",
    "for i,a_key in zip(percenterr,abserr):\n",
    "    print(str(count)+') \\t'+'%.4f' %i+' %'+'\\t\\t %.4f' %a_key)\n",
    "    count+=1\n"
   ]
  },
  {
   "cell_type": "code",
   "execution_count": null,
   "metadata": {
    "colab": {},
    "colab_type": "code",
    "id": "tiurWrLX-61y"
   },
   "outputs": [],
   "source": [
    "plt.figure(dpi=200)\n",
    "plt.bar(numcheckbits,avrg1,alpha=.5,align='edge')\n",
    "\n",
    "plt.plot(numcheckbits,P,'--g',label='$P=1-(3/4)^N$')\n",
    "plt.xticks(ticks=numcheckbits,fontsize=8)\n",
    "plt.yticks(ticks=np.arange(start,stop+step,2*step),fontsize=8)\n",
    "plt.xlabel('Number of Check-bits',fontsize=10)\n",
    "plt.ylabel('Average Prob of Discovering Eve',fontsize=10)\n",
    "plt.title('BB84 \\n Probability of Discovering Eve when varying amount of check-bits', fontsize=10)\n",
    "plt.legend(fontsize=10,loc='upper left',shadow=True)\n",
    "plt.grid(axis='y',color='k',linestyle='--',alpha=.7)\n",
    "plt.savefig(outpath+'/'+'BB84-prob-per-Check-bits.png',dpi=200)\n",
    "plt.show()\n",
    "plt.close()"
   ]
  },
  {
   "cell_type": "markdown",
   "metadata": {
    "colab_type": "text",
    "id": "SJCf6mbkGOQU"
   },
   "source": [
    "# We also have a CSV file with data from a more precise simulation"
   ]
  },
  {
   "cell_type": "markdown",
   "metadata": {
    "colab_type": "text",
    "id": "3NCblmeaGOQW"
   },
   "source": [
    "We won't need to run a sim each time you need to look a the plots or generate other plots\n",
    "\n",
    "We can use pandas to read the CSV file provided in the Github Repo"
   ]
  },
  {
   "cell_type": "code",
   "execution_count": null,
   "metadata": {
    "colab": {},
    "colab_type": "code",
    "id": "KAXdwHhCGOQY"
   },
   "outputs": [],
   "source": [
    "import pandas as pd"
   ]
  },
  {
   "cell_type": "markdown",
   "metadata": {
    "colab_type": "text",
    "id": "4tCxNibcGOQl"
   },
   "source": [
    "## Configuration of the plots"
   ]
  },
  {
   "cell_type": "code",
   "execution_count": null,
   "metadata": {
    "colab": {},
    "colab_type": "code",
    "id": "_PJkhsXjGOQn"
   },
   "outputs": [],
   "source": [
    "df=pd.read_csv('Distribution-Data-for-BB84.csv')\n",
    "df"
   ]
  },
  {
   "cell_type": "markdown",
   "metadata": {},
   "source": [
    "## Here we see some statistics of the simulation"
   ]
  },
  {
   "cell_type": "code",
   "execution_count": null,
   "metadata": {
    "colab": {},
    "colab_type": "code",
    "id": "7r0R1PQlGOQ1",
    "scrolled": false
   },
   "outputs": [],
   "source": [
    "print(df.info())\n",
    "df.describe()"
   ]
  },
  {
   "cell_type": "code",
   "execution_count": null,
   "metadata": {
    "colab": {},
    "colab_type": "code",
    "id": "zkc7Ha1wGORA"
   },
   "outputs": [],
   "source": [
    "#Where to store the plots\n",
    "outpath='pandas_plots_BB84'\n",
    "\n",
    "#Check if folder exists\n",
    "if outpath not in os.listdir():\n",
    "    os.mkdir(outpath)\n",
    "else: \n",
    "    print(outpath,'already exists!')\n",
    "\n",
    "\n",
    "#Configuration for the plots\n",
    "start = 0\n",
    "stop  = 1\n",
    "step  = .05\n",
    "bins=np.linspace(start, stop, num=250)\n",
    "    "
   ]
  },
  {
   "cell_type": "markdown",
   "metadata": {
    "colab_type": "text",
    "id": "dvJTKC5GGORK"
   },
   "source": [
    "## Plotting all check-bit distributions in one"
   ]
  },
  {
   "cell_type": "code",
   "execution_count": null,
   "metadata": {
    "colab": {},
    "colab_type": "code",
    "id": "wHwf8ZDwGORM"
   },
   "outputs": [],
   "source": [
    "plt.figure(dpi=200)\n",
    "df.plot(kind='hist',fontsize=10, align='left',histtype='stepfilled' ,bins=bins,ax = plt.gca())\n",
    "plt.legend(loc='upper center',ncol=5,fontsize=8,shadow=True)\n",
    "plt.ylabel('Frequency',fontsize=12)\n",
    "plt.xlabel('Probability of Detecting Eve', fontsize=12)\n",
    "plt.xticks(np.arange(start, stop+step, 2*step))\n",
    "plt.xlim(0.05,1.0)\n",
    "plt.title('BB84 \\n Probability of Detecting Eve varying the amount of checkbits',fontsize=12)\n",
    "plt.savefig(outpath+'/'+'Pandas-Dist-Supermposed-All.png',dpi=200,format='png')\n",
    "plt.show()\n",
    "plt.close()"
   ]
  },
  {
   "cell_type": "markdown",
   "metadata": {
    "colab_type": "text",
    "id": "YY_aq3m-GOR4"
   },
   "source": [
    "## Probabilities of finding Eve (average values)"
   ]
  },
  {
   "cell_type": "code",
   "execution_count": null,
   "metadata": {
    "colab": {},
    "colab_type": "code",
    "id": "-3Nhf9AXGORZ"
   },
   "outputs": [],
   "source": [
    "avrg2=df.mean()\n",
    "avrg2"
   ]
  },
  {
   "cell_type": "markdown",
   "metadata": {
    "colab_type": "text",
    "id": "WPynFhP5GOP3"
   },
   "source": [
    "## Errors between our theoretical values and our simulation values for the probabilities of detecting Eve"
   ]
  },
  {
   "cell_type": "code",
   "execution_count": null,
   "metadata": {
    "colab": {},
    "colab_type": "code",
    "id": "zxbNjYlMpEm7"
   },
   "outputs": [],
   "source": [
    "# Absolute Error\n",
    "abserr=np.abs(avrg2-P)\n",
    "\n",
    "# Percentage Error\n",
    "percenterr=(abserr/P)*100\n",
    "print('\\n    Percentage of Error       Absolute Error')\n",
    "count=1\n",
    "for i,a_key in zip(percenterr,abserr):\n",
    "    print(str(count)+') \\t'+'%.4f' %i+' %'+'\\t\\t %.4f' %a_key)\n",
    "    count+=1\n"
   ]
  },
  {
   "cell_type": "markdown",
   "metadata": {},
   "source": [
    "# Final plot with the results of the simulation "
   ]
  },
  {
   "cell_type": "code",
   "execution_count": null,
   "metadata": {
    "colab": {},
    "colab_type": "code",
    "id": "C1o9IRJQGORt"
   },
   "outputs": [],
   "source": [
    "N2=[0,1,3,7,14] #choosing the checkbit distributions\n",
    "plt.figure(dpi=200)\n",
    "for qb in N2:\n",
    "    count,val,_=plt.hist(df[df.columns[qb]],align='left',histtype='bar',label='Probability using %s check-bits' %df.columns[qb],bins=bins )\n",
    "    plt.vlines(x=avrg2[qb],ymin=0,ymax=max(count), colors='k', linestyles='dashed',alpha=.63)\n",
    "\n",
    "\n",
    "plt.vlines(x=avrg2,ymin=0,ymax=.01, linestyles='dashed', label='Average Values')\n",
    "plt.xticks(np.arange(start, stop+step, 2*step),fontsize=10)\n",
    "plt.yticks(fontsize=10)\n",
    "plt.xlabel('Probability of Detecting Eve',fontsize=12)\n",
    "plt.ylabel('Frequency',fontsize=12)\n",
    "plt.xlim(0.05,1.0)\n",
    "\n",
    "plt.legend(loc='center left',ncol=1,shadow=True,fontsize=8,bbox_to_anchor=(1.015,.5))\n",
    "plt.title('BB84\\n Probability of Detecting Eve' , fontsize=12)\n",
    "plt.savefig(outpath+'/'+'Pandas-BB84-dist-superimposed.png',dpi=200,bbox_inches=\"tight\")\n",
    "plt.show()\n",
    "plt.close()"
   ]
  }
 ],
 "metadata": {
  "accelerator": "GPU",
  "colab": {
   "collapsed_sections": [],
   "include_colab_link": true,
   "name": "Guillo-BB84.ipynb",
   "private_outputs": true,
   "provenance": []
  },
  "kernelspec": {
   "display_name": "Python 3",
   "language": "python",
   "name": "python3"
  },
  "language_info": {
   "codemirror_mode": {
    "name": "ipython",
    "version": 3
   },
   "file_extension": ".py",
   "mimetype": "text/x-python",
   "name": "python",
   "nbconvert_exporter": "python",
   "pygments_lexer": "ipython3",
   "version": "3.11.6"
  }
 },
 "nbformat": 4,
 "nbformat_minor": 4
}
