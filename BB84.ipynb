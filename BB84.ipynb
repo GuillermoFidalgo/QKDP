{
  "nbformat": 4,
  "nbformat_minor": 0,
  "metadata": {
    "accelerator": "GPU",
    "colab": {
      "name": "Guillo-BB84.ipynb",
      "provenance": [],
      "private_outputs": true,
      "collapsed_sections": [],
      "include_colab_link": true
    },
    "kernelspec": {
      "display_name": "Python 3",
      "language": "python",
      "name": "python3"
    },
    "language_info": {
      "codemirror_mode": {
        "name": "ipython",
        "version": 3
      },
      "file_extension": ".py",
      "mimetype": "text/x-python",
      "name": "python",
      "nbconvert_exporter": "python",
      "pygments_lexer": "ipython3",
      "version": "3.8.2"
    }
  },
  "cells": [
    {
      "cell_type": "markdown",
      "metadata": {
        "id": "view-in-github",
        "colab_type": "text"
      },
      "source": [
        "<a href=\"https://colab.research.google.com/github/GuillermoFidalgo/QKDP/blob/master/BB84.ipynb\" target=\"_parent\"><img src=\"https://colab.research.google.com/assets/colab-badge.svg\" alt=\"Open In Colab\"/></a>"
      ]
    },
    {
      "cell_type": "markdown",
      "metadata": {
        "colab_type": "text",
        "id": "lLtgnw6Q5TSD"
      },
      "source": [
        "# Code for BB84  protocol"
      ]
    },
    {
      "cell_type": "code",
      "metadata": {
        "colab_type": "code",
        "id": "aaYg6KE37ZhM",
        "colab": {}
      },
      "source": [
        "import numpy as np\n",
        "import matplotlib.pyplot as plt\n",
        "import random\n",
        "import string\n",
        "import os\n",
        "\n",
        "#Function for assigning Standard (s) or Hadamard (h) measurement basis\n",
        "def randomString(stringLength=2):\n",
        "    \"\"\" Generate a random string of fixed length \"\"\"\n",
        "    basis = 'sh'\n",
        "    return ''.join(random.choice(basis) for i in range(stringLength))\n",
        "\n",
        "#Function for executing the BB84 protocol using n qubits and N check-bits\n",
        "def BB84(n,N,Eve=True,Strings=False):\n",
        "    \"\"\"    \n",
        "    BB84(n,N)\n",
        "    \n",
        "    n: Number of bits to be used for the key\n",
        "    \n",
        "    N: Number of bits to be checked\n",
        "    \n",
        "    Eve: Default True. If True, Eve will be present in the protocol. If False, Eve will not be present.\n",
        "    \n",
        "    Stings: Default False. If True, return Alice's , Bob's and Eve's:\n",
        "    1- initial bit strings\n",
        "    2- keys\n",
        "    3- initial basis used\n",
        "    4- check bit sequence\n",
        "    \n",
        "    --------\n",
        "    \n",
        "    Returns\n",
        "    \n",
        "    R: List of strings of \"OK\" and \"ABORT\" that indicate when Eve has been detected\n",
        "    \n",
        "    a: List of Alice's bits\n",
        "    b: List of Bob's bits\n",
        "    e: List of Eve's bits\n",
        "    x: List of Alice's key\n",
        "    y: List of Bob's key\n",
        "    z: List of Eve's key\n",
        "    \n",
        "    aa: List of Alice's bases assignments\n",
        "    bb: List of Bob's bases assignments\n",
        "    ee: List of Eve's bases assignments\n",
        "    \n",
        "    xx: List of Alice's check-bits\n",
        "    yy: List of Bob's check-bits\n",
        "    \n",
        "    \"\"\"\n",
        "    \n",
        "    a=[]\n",
        "    b=[]\n",
        "    e=[]\n",
        "    x=[]\n",
        "    y=[]\n",
        "    z=[]\n",
        "    \n",
        "    aa=randomString(n)  #Alice's bases assignment\n",
        "    bb=randomString(n)  #Bob's bases assignment\n",
        "    if Eve==True:\n",
        "        ee=randomString(n)  #Eve's bases assignment (when present)\n",
        "    else:\n",
        "        ee=aa  #When Eve's not present, she can be thought of as being present, \n",
        "               #but having exactly the same bit-string and same basis as Alice\n",
        "    \n",
        "    #Generate a,b,e and x,y,z\n",
        "    for i in range(n):\n",
        "        a.append(random.randint(0,1))\n",
        "        if ee[i]==aa[i]:\n",
        "            e.append(a[i])\n",
        "        else:\n",
        "            e.append(random.randint(0,1))\n",
        "        if bb[i]==ee[i]:\n",
        "            b.append(e[i])\n",
        "        else:\n",
        "            b.append(random.randint(0,1))\n",
        "        if aa[i]==bb[i]:\n",
        "            x.append(a[i])\n",
        "            y.append(b[i])\n",
        "            z.append(e[i])\n",
        "\n",
        "    R=[]\n",
        "\n",
        "    for j in N:\n",
        "        if j<=len(x):\n",
        "            s=random.sample(range(len(x)),j)  #Choice of check-bits\n",
        "            xx=[]\n",
        "            yy=[]\n",
        "            for i in range(j):  #Generate xx,yy\n",
        "                xx.append(x[s[i]])\n",
        "                yy.append(y[s[i]])\n",
        "            if xx!=yy:  #Check for Eve's presence\n",
        "                R.append('ABORT')  #Eve detected\n",
        "            else:\n",
        "                R.append('OK')     #Eve not detected\n",
        "        else:\n",
        "            break\n",
        "    \n",
        "    if Strings==False:\n",
        "        return R\n",
        "    if Strings==True:\n",
        "        return R,a,b,e,aa,bb,ee,x,y,z,xx,yy,s"
      ],
      "execution_count": 0,
      "outputs": []
    },
    {
      "cell_type": "markdown",
      "metadata": {
        "colab_type": "text",
        "id": "U_CrPCAapEl0"
      },
      "source": [
        "# One instance of BB84"
      ]
    },
    {
      "cell_type": "code",
      "metadata": {
        "colab_type": "code",
        "id": "HZJvQuZguExY",
        "colab": {}
      },
      "source": [
        "R,a,b,e,aa,bb,ee,x,y,z,xx,yy,s=BB84(128,range(3),Strings=True)\n",
        "print(\"Alice's Check sequence: \",xx)\n",
        "print(\"Bob's Check sequence:   \",yy)\n",
        "print('qubits checked are # :  ',s)\n",
        "print(\"Result of Simulation: \",R[-1])"
      ],
      "execution_count": 0,
      "outputs": []
    },
    {
      "cell_type": "code",
      "metadata": {
        "colab_type": "code",
        "id": "UKyUQ9FmpEmA",
        "colab": {}
      },
      "source": [
        "print(\"Alice's keys: \",x)\n",
        "print()\n",
        "print(\"Bobs's keys: \",y)\n",
        "print()\n",
        "print(\"Eve's keys: \",z)\n",
        "print()\n",
        "print(\"Alice's Basis: \",aa)\n",
        "print()\n",
        "print(\"Bobs's Basis: \",bb)\n",
        "print()\n",
        "print(\"Eve's Basis: \",ee)"
      ],
      "execution_count": 0,
      "outputs": []
    },
    {
      "cell_type": "markdown",
      "metadata": {
        "colab_type": "text",
        "id": "vTY8tJQ2TyVe"
      },
      "source": [
        "# Simulation of the BB84 protocol"
      ]
    },
    {
      "cell_type": "code",
      "metadata": {
        "colab_type": "code",
        "id": "068zU_X2Q3kR",
        "colab": {}
      },
      "source": [
        "k1=100 #Number of iterations of BB84\n",
        "k2=100 # Sample points \n",
        "n=128 #Number of qubits\n",
        "\n",
        "a=np.arange(5)# dummy variable \n",
        "N=2**a #Number of check-bits\n",
        "\n",
        "# In order to see the simulation with data for all values of possible checkbits uncomment the next line\n",
        "N=np.arange(1,16)"
      ],
      "execution_count": 0,
      "outputs": []
    },
    {
      "cell_type": "code",
      "metadata": {
        "colab_type": "code",
        "id": "ZuIdhWeQGOOF",
        "colab": {}
      },
      "source": [
        "dist=np.empty([k2,len(N)]) #Probability distribution\n",
        "\n",
        "#Generate dist,avrg\n",
        "for j in range(k2):  #Loop for generating dist\n",
        "    abort=np.zeros(len(N),int) #Number of ABORT\n",
        "    for i in range(k1):  #Loop for executing BB84\n",
        "        R=BB84(n,N)\n",
        "        for m in range(len(R)): #Loop for each N\n",
        "            if R[m]=='ABORT': #Check for ABORT results\n",
        "                abort[m]+=1\n",
        "    pabort=abort/k1  #Experimental probability of ABORT\n",
        "    dist[j]=pabort\n",
        "\n",
        "avrg=np.mean(dist,axis=0) #Average of each column of dist"
      ],
      "execution_count": 0,
      "outputs": []
    },
    {
      "cell_type": "markdown",
      "metadata": {
        "colab_type": "text",
        "id": "oJXty6UKzw1W"
      },
      "source": [
        "# Now we use Matplotlib's hist function to draw a distribution \n",
        "\n",
        "and see what is the average value of finding Eve for the given parameters.\n",
        "\n"
      ]
    },
    {
      "cell_type": "markdown",
      "metadata": {
        "id": "_NaTnIpiGOOU",
        "colab_type": "text"
      },
      "source": [
        "## Configuration of the plots"
      ]
    },
    {
      "cell_type": "code",
      "metadata": {
        "colab_type": "code",
        "id": "02ceqNtfyHBd",
        "colab": {}
      },
      "source": [
        "#Where to store the plots\n",
        "outpath='plots_BB84'\n",
        "\n",
        "#Check if folder exists\n",
        "if outpath not in os.listdir():\n",
        "    os.mkdir(outpath)\n",
        "else: \n",
        "    print(outpath,'already exists!')\n",
        "\n",
        "\n",
        "#Configuration for the plots\n",
        "start = 0\n",
        "stop  = 1\n",
        "step  = .05\n",
        "bins=np.linspace(start, stop, num=250)\n",
        "    "
      ],
      "execution_count": 0,
      "outputs": []
    },
    {
      "cell_type": "markdown",
      "metadata": {
        "id": "DEwW5uZqGOOn",
        "colab_type": "text"
      },
      "source": [
        "## For one plot"
      ]
    },
    {
      "cell_type": "code",
      "metadata": {
        "colab_type": "code",
        "scrolled": false,
        "id": "UCiJnbN_GOOx",
        "colab": {}
      },
      "source": [
        "    \n",
        "#Making 1 single plot\n",
        "#Specifing qb changes the plot\n",
        "\n",
        "qb=1\n",
        "# qb is a power of 2 (2^qb) = the amount of qubits to inspect UNLESS you uncommented the Line at the simulation stage\n",
        "\n",
        "\n",
        "\n",
        "# plt.figure(num=qb,figsize=(3,3))\n",
        "plt.figure(num=qb)\n",
        "count,val,_=plt.hist(dist[:,qb],bins=bins,align='left',histtype='step' )\n",
        "plt.vlines(x=avrg[qb],ymin=0,ymax=max(count))\n",
        "# Min,Max=val[0],val[-1]\n",
        "# ticks=np.arange(Min,Max,step=.01)\n",
        "# ll=['%.3f' %a for a in val]\n",
        "plt.xticks(np.arange(start, stop+step, 2*step))\n",
        "# plt.xticks(ticks=val[::18],labels=ll[::18])\n",
        "plt.xlabel('Probability of discovering Eve when using %i check-bits' %N[qb],fontsize=12)\n",
        "plt.ylabel('Frequency',fontsize=12)\n",
        "plt.xlim(0.01,1.0)\n",
        "plt.title('BB84 protocol using %i qubits'%n)\n",
        "\n",
        "plt.savefig(outpath+'/'+'BB84-dist with %i check-bits.png'%N[qb],dpi=200)\n",
        "plt.show()\n",
        "plt.close()"
      ],
      "execution_count": 0,
      "outputs": []
    },
    {
      "cell_type": "markdown",
      "metadata": {
        "id": "7Dsb4Q5MGOO-",
        "colab_type": "text"
      },
      "source": [
        "## For all plots individually"
      ]
    },
    {
      "cell_type": "code",
      "metadata": {
        "id": "HJK9OpgjGOPA",
        "colab_type": "code",
        "colab": {}
      },
      "source": [
        "for qb in range(len(N)):\n",
        "    count,val=[],[]\n",
        "#     plt.figure(num=qb,figsize=(16,9))\n",
        "    plt.figure(num=qb,dpi=300)\n",
        "    count,val,_=plt.hist(dist[:,qb],bins=bins,align='left',histtype='step' )\n",
        "    plt.xticks(np.arange(start, stop+step, 2*step))\n",
        "    plt.xlabel('Probability of discovering Eve when using %i check-bits' %N[qb])\n",
        "    plt.ylabel('Frequency')\n",
        "    plt.xlim(0.01,1.0)\n",
        "    plt.title('BB84 protocol using %i qubits'%n)\n",
        "    plt.savefig(outpath+'/'+'BB84-dist with %i check-bits'%N[qb],dpi=200)\n",
        "    plt.show()\n",
        "    plt.close()"
      ],
      "execution_count": 0,
      "outputs": []
    },
    {
      "cell_type": "markdown",
      "metadata": {
        "id": "mwXx17HLGOPM",
        "colab_type": "text"
      },
      "source": [
        "## A Closer look"
      ]
    },
    {
      "cell_type": "code",
      "metadata": {
        "colab_type": "code",
        "id": "kNiJ0v5Gz9xr",
        "colab": {}
      },
      "source": [
        "for qb in range(len(N)):\n",
        "    count,val=[],[]\n",
        "    plt.figure(num=qb,figsize=(16,9))\n",
        "    count,val,_=plt.hist(dist[:,qb],bins=50,align='left',histtype='step' )\n",
        "    ll=['%.3f' %a for a in val]\n",
        "    plt.xticks(ticks=val[::3],labels=ll[::3])\n",
        "    plt.xlabel('Probability of discovering Eve when using %i check-bits' %N[qb])\n",
        "    plt.ylabel('Frequency')\n",
        "#     plt.xlim(0.1,1)\n",
        "    plt.title('BB84 protocol using %i qubits'%n)\n",
        "    plt.savefig(outpath+'/'+'CloserLook_BB84-dist with %i check-bits'%N[qb],dpi=200)\n",
        "    plt.show()\n",
        "    plt.close()"
      ],
      "execution_count": 0,
      "outputs": []
    },
    {
      "cell_type": "markdown",
      "metadata": {
        "id": "GOiePP4uGOPc",
        "colab_type": "text"
      },
      "source": [
        "## A few of them together"
      ]
    },
    {
      "cell_type": "code",
      "metadata": {
        "colab_type": "code",
        "id": "eiYWP0vPyl8N",
        "scrolled": false,
        "colab": {}
      },
      "source": [
        "plt.figure()\n",
        "start = 0\n",
        "stop  = 1\n",
        "step  = .05\n",
        "bins=np.linspace(start, stop, num=250)\n",
        "\n",
        "for qb in range(len(N)):\n",
        "    count,val,_=plt.hist(dist[:,qb],align='left',histtype='step',label='Probability using %i check-bits' %N[qb],bins=bins )\n",
        "plt.vlines(x=avrg,ymin=0,ymax=max(count), colors='k', linestyles='dashed',  label='Average Values',alpha=.63)\n",
        "plt.xticks(np.arange(start, stop+step, 2*step),fontsize=12)\n",
        "plt.yticks(fontsize=15)\n",
        "plt.xlabel('Probability of discovering Eve',fontsize=15)\n",
        "plt.ylabel('Frequency',fontsize=15)\n",
        "plt.xlim(0.05,1.0)\n",
        "# plt.grid(axis='x')\n",
        "plt.legend(shadow=True,fontsize=7,bbox_to_anchor=(1.45,1), loc=\"upper right\",mode='expand')\n",
        "plt.title('BB84 protocol using %i qubits'%n , fontsize=20)\n",
        "plt.savefig(outpath+'/'+'BB84-dist-superimposed',dpi=200,bbox_inches=\"tight\")\n",
        "plt.show()\n",
        "plt.close()"
      ],
      "execution_count": 0,
      "outputs": []
    },
    {
      "cell_type": "code",
      "metadata": {
        "colab_type": "code",
        "id": "eKB5yZeQpEm3",
        "scrolled": true,
        "colab": {}
      },
      "source": [
        "# print(p)\n",
        "# N1=np.arange(17)\n",
        "P=1-(.75)**N\n",
        "print(P)\n",
        "# print(np.e)"
      ],
      "execution_count": 0,
      "outputs": []
    },
    {
      "cell_type": "markdown",
      "metadata": {
        "id": "WPynFhP5GOP3",
        "colab_type": "text"
      },
      "source": [
        "## Errors between our theoretical values and our simulation values for the probabilities of detecting Eve"
      ]
    },
    {
      "cell_type": "code",
      "metadata": {
        "colab_type": "code",
        "id": "zxbNjYlMpEm7",
        "colab": {}
      },
      "source": [
        "# Root Squared error\n",
        "rse=np.sqrt((avrg-P)**2)\n",
        "# print('root squared error: \\n',rse)\n",
        "\n",
        "# Difference \n",
        "Error=avrg-P\n",
        "# print(\"Error: \\n\",Error)\n",
        "\n",
        "# Absolute Error\n",
        "abserr=np.abs(avrg-P)\n",
        "print('absolute error: \\n',abserr)\n",
        "# print('\\nIs root squared error same as absolute error?:\\n', rse==abserr)\n",
        "\n",
        "\n",
        "# Percentage Error\n",
        "percenterr=(abserr/P)\n",
        "print('\\nPercentage of Error')\n",
        "for i in percenterr:\n",
        "    print('%.4f' %i+' %')\n",
        "    \n",
        "# print(percenterr)"
      ],
      "execution_count": 0,
      "outputs": []
    },
    {
      "cell_type": "code",
      "metadata": {
        "colab_type": "code",
        "id": "tiurWrLX-61y",
        "colab": {}
      },
      "source": [
        "# for i in range(len(N)):\n",
        "# count,val=[],[]\n",
        "plt.figure(figsize=(16,9))\n",
        "plt.bar(N,avrg,alpha=.5,align='edge')\n",
        "# plt.plot(N,avrg,'ok',label='Simulation')\n",
        "plt.plot(N,P,'--g',label='$P=1-(3/4)^N$')\n",
        "plt.xticks(ticks=N,fontsize=14)\n",
        "plt.yticks(ticks=np.arange(start,stop+step,2*step),fontsize=14)\n",
        "plt.xlabel('Number of Check-bits',fontsize=14)\n",
        "plt.ylabel('Average Prob of Discovering Eve',fontsize=14)\n",
        "plt.title('BB84 \\n Probability of Discovering Eve when varying amount of check-bits', fontsize=20)\n",
        "plt.legend(fontsize=14,loc='upper center',shadow=True)\n",
        "plt.grid(axis='y',color='k',linestyle='--',alpha=.7)\n",
        "plt.savefig(outpath+'/'+'BB84-prob-per-Check-bits.png',dpi=200,format='png')\n",
        "plt.show()\n",
        "plt.close()"
      ],
      "execution_count": 0,
      "outputs": []
    },
    {
      "cell_type": "markdown",
      "metadata": {
        "id": "SJCf6mbkGOQU",
        "colab_type": "text"
      },
      "source": [
        "# We also have a CSV file with data from a more precise simulation"
      ]
    },
    {
      "cell_type": "markdown",
      "metadata": {
        "id": "3NCblmeaGOQW",
        "colab_type": "text"
      },
      "source": [
        "We won't need to run a sim each time you need to look a the plots or generate other plots\n",
        "\n",
        "We can use pandas to read the CSV file provided in the Github Repo"
      ]
    },
    {
      "cell_type": "code",
      "metadata": {
        "id": "KAXdwHhCGOQY",
        "colab_type": "code",
        "colab": {}
      },
      "source": [
        "import pandas as pd"
      ],
      "execution_count": 0,
      "outputs": []
    },
    {
      "cell_type": "markdown",
      "metadata": {
        "id": "4tCxNibcGOQl",
        "colab_type": "text"
      },
      "source": [
        "## Configuration of the plots"
      ]
    },
    {
      "cell_type": "code",
      "metadata": {
        "id": "_PJkhsXjGOQn",
        "colab_type": "code",
        "colab": {}
      },
      "source": [
        "df=pd.read_csv('Distribution-Data-for-BB84.csv')\n",
        "df"
      ],
      "execution_count": 0,
      "outputs": []
    },
    {
      "cell_type": "code",
      "metadata": {
        "id": "7r0R1PQlGOQ1",
        "colab_type": "code",
        "colab": {}
      },
      "source": [
        "print(df.info())\n",
        "df.describe()"
      ],
      "execution_count": 0,
      "outputs": []
    },
    {
      "cell_type": "code",
      "metadata": {
        "colab_type": "code",
        "id": "zkc7Ha1wGORA",
        "colab": {}
      },
      "source": [
        "#Where to store the plots\n",
        "outpath='plots_BB84'\n",
        "\n",
        "#Check if folder exists\n",
        "if outpath not in os.listdir():\n",
        "    os.mkdir(outpath)\n",
        "else: \n",
        "    print(outpath,'already exists!')\n",
        "\n",
        "\n",
        "#Configuration for the plots\n",
        "start = 0\n",
        "stop  = 1\n",
        "step  = .05\n",
        "bins=np.linspace(start, stop, num=250)\n",
        "    "
      ],
      "execution_count": 0,
      "outputs": []
    },
    {
      "cell_type": "markdown",
      "metadata": {
        "id": "dvJTKC5GGORK",
        "colab_type": "text"
      },
      "source": [
        "## All Checkbit distributions"
      ]
    },
    {
      "cell_type": "code",
      "metadata": {
        "scrolled": false,
        "id": "wHwf8ZDwGORM",
        "colab_type": "code",
        "colab": {}
      },
      "source": [
        "df.plot(figsize=(16,8),kind='hist',fontsize=14, align='left',histtype='stepfilled' ,bins=bins)\n",
        "plt.legend(loc='upper center',ncol=5,fontsize=13)\n",
        "plt.ylabel('Frequency',fontsize=15)\n",
        "plt.xlabel('Probability of Detecting Eve', fontsize=15)\n",
        "plt.xticks(np.arange(start, stop+step, step))\n",
        "plt.xlim(0.05,1.0)\n",
        "plt.title('BB84 \\n Probability of Detecting Eve varying the amount of checkbits',fontsize=20)\n",
        "plt.savefig(outpath+'/'+'Pandas-Dist-Supermposed-All.png',dpi=200,format='png')\n",
        "plt.show()"
      ],
      "execution_count": 0,
      "outputs": []
    },
    {
      "cell_type": "markdown",
      "metadata": {
        "id": "kY24rLGqGORW",
        "colab_type": "text"
      },
      "source": [
        "## Testing\n"
      ]
    },
    {
      "cell_type": "code",
      "metadata": {
        "id": "-3Nhf9AXGORZ",
        "colab_type": "code",
        "colab": {}
      },
      "source": [
        "avrg=df.mean()\n",
        "avrg"
      ],
      "execution_count": 0,
      "outputs": []
    },
    {
      "cell_type": "code",
      "metadata": {
        "id": "BDB28eIjGORj",
        "colab_type": "code",
        "colab": {}
      },
      "source": [
        "df[df.columns[qb]]"
      ],
      "execution_count": 0,
      "outputs": []
    },
    {
      "cell_type": "code",
      "metadata": {
        "id": "C1o9IRJQGORt",
        "colab_type": "code",
        "colab": {}
      },
      "source": [
        "\n",
        "\n",
        "plt.figure(figsize=(16,8))\n",
        "for qb in range(5):\n",
        "#     if qb==2**a[-1]:\n",
        "#         count,val,_=plt.hist(df[\"15\"],align='left',histtype='bar',label='Probability using 15 check-bits' ,bins=bins )\n",
        "#     else:\n",
        "    count,val,_=plt.hist(df[df.columns[qb]],align='left',histtype='bar',label='Probability using %s check-bits' %df.columns[qb],bins=bins )\n",
        "\n",
        "plt.vlines(x=avrg,ymin=0,ymax=max(count), colors='k', linestyles='dashed',  label='Average Values',alpha=.63)\n",
        "# plt.vlines(x=avrg,ymin=0,ymax=max(count), colors='k', linestyles='dashed',alpha=.63)\n",
        "plt.xticks(np.arange(start, stop+step, step),fontsize=14)\n",
        "plt.yticks(fontsize=14)\n",
        "plt.xlabel('Probability of Detecting Eve',fontsize=15)\n",
        "plt.ylabel('Frequency',fontsize=15)\n",
        "plt.xlim(0.05,1.0)\n",
        "# plt.grid(axis='x')\n",
        "plt.legend(loc='upper center',ncol=2,shadow=True,fontsize=12)\n",
        "plt.title('BB84\\n Probability of Detecting Eve' , fontsize=20)\n",
        "plt.savefig(outpath+'/'+'Pandas-BB84-dist-superimposed.png',dpi=200,format='png')\n",
        "plt.show()\n",
        "plt.close()"
      ],
      "execution_count": 0,
      "outputs": []
    },
    {
      "cell_type": "markdown",
      "metadata": {
        "id": "sBgo7rCuGOR3",
        "colab_type": "text"
      },
      "source": [
        "## End testing"
      ]
    },
    {
      "cell_type": "markdown",
      "metadata": {
        "id": "YY_aq3m-GOR4",
        "colab_type": "text"
      },
      "source": [
        "## Some of the Distributions and their average values"
      ]
    },
    {
      "cell_type": "code",
      "metadata": {
        "scrolled": false,
        "id": "40Bov_lpGOR5",
        "colab_type": "code",
        "colab": {}
      },
      "source": [
        "plt.figure(figsize=(16,8))\n",
        "for qb in 2**a:\n",
        "    if qb==2**a[-1]:\n",
        "        count,val,_=plt.hist(df[\"15\"],align='left',histtype='bar',label='Probability using 15 check-bits' ,bins=bins )\n",
        "    else:\n",
        "        plt.hist(df['%s'%qb],align='left',histtype='bar',label='Probability using %i check-bits' %qb,bins=bins )\n",
        "\n",
        "plt.vlines(x=avrg[2**a[:-1]-1],ymin=0,ymax=max(count), colors='k', linestyles='dashed',  label='Average Values',alpha=.63)\n",
        "plt.vlines(x=avrg[-1],ymin=0,ymax=max(count), colors='k', linestyles='dashed',alpha=.63)\n",
        "plt.xticks(np.arange(start, stop+step, step),fontsize=14)\n",
        "plt.yticks(fontsize=14)\n",
        "plt.xlabel('Probability of Detecting Eve',fontsize=15)\n",
        "plt.ylabel('Frequency',fontsize=15)\n",
        "plt.xlim(0.05,1.0)\n",
        "# plt.grid(axis='x')\n",
        "plt.legend(loc='upper center',ncol=2,shadow=True,fontsize=12)\n",
        "plt.title('BB84\\n Probability of Detecting Eve' , fontsize=20)\n",
        "plt.savefig(outpath+'/'+'Pandas-BB84-dist-superimposed.png',dpi=200,format='png')\n",
        "plt.show()\n",
        "plt.close()"
      ],
      "execution_count": 0,
      "outputs": []
    },
    {
      "cell_type": "code",
      "metadata": {
        "id": "VCbf7eNbGOSC",
        "colab_type": "code",
        "colab": {}
      },
      "source": [
        ""
      ],
      "execution_count": 0,
      "outputs": []
    }
  ]
}