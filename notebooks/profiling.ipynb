{
 "cells": [
  {
   "cell_type": "code",
   "execution_count": 1,
   "metadata": {},
   "outputs": [],
   "source": [
    "\n",
    "import line_profiler\n",
    "from qcrypto.agents import Agent\n",
    "from qcrypto.qstates import QstateEnt, QstateUnEnt\n",
    "from qcrypto.gates import H_gate\n",
    "import numpy as np\n",
    "\n",
    "numqubits = 20\n",
    "public_qstate = QstateUnEnt(init_method=\"random\", num_qubits=numqubits)\n",
    "def Agent_profile():\n",
    "    Alice = Agent()\n",
    "    Alice.set_qstate(qstate=public_qstate,qstate_type='public')\n",
    "    Alice_base_choice = np.random.choice([True, False], size=(numqubits))\n",
    "    Alice_to_gate = np.nonzero(Alice_base_choice)[0]\n",
    "    Alice.apply_gate(qstate_type=\"public\", gate=H_gate, qubit_idx=Alice_to_gate)\n",
    "    Alice.get_key(qstate_type=\"public\")\n",
    "    Alice.apply_gate(qstate_type=\"public\", gate=H_gate, qubit_idx=Alice_to_gate)"
   ]
  },
  {
   "cell_type": "code",
   "execution_count": 2,
   "metadata": {},
   "outputs": [],
   "source": [
    "%load_ext line_profiler"
   ]
  },
  {
   "cell_type": "code",
   "execution_count": 3,
   "metadata": {},
   "outputs": [
    {
     "name": "stdout",
     "output_type": "stream",
     "text": [
      "Timer unit: 1e-06 s\n",
      "\n",
      "Total time: 0.006081 s\n",
      "File: /var/folders/53/q9lwqxpd7lj_hbkx5dv2jy4w0000gn/T/ipykernel_47240/2670346919.py\n",
      "Function: Agent_profile at line 9\n",
      "\n",
      "Line #      Hits         Time  Per Hit   % Time  Line Contents\n",
      "==============================================================\n",
      "     9                                           def Agent_profile():\n",
      "    10         1         25.0     25.0      0.4      Alice = Agent()\n",
      "    11         1          4.0      4.0      0.1      Alice.set_qstate(qstate=public_qstate,qstate_type='public')\n",
      "    12         1        156.0    156.0      2.6      Alice_base_choice = np.random.choice([True, False], size=(numqubits))\n",
      "    13         1         17.0     17.0      0.3      Alice_to_gate = np.nonzero(Alice_base_choice)[0]\n",
      "    14         1       2054.0   2054.0     33.8      Alice.apply_gate(qstate_type=\"public\", gate=H_gate, qubit_idx=Alice_to_gate)\n",
      "    15         1       3825.0   3825.0     62.9      Alice.get_key(qstate_type=\"public\")\n",
      "    16                                               Alice.apply_gate(qstate_type=\"public\", gate=H_gate, qubit_idx=Alice_to_gate)"
     ]
    }
   ],
   "source": [
    "# Running in units of µs\n",
    "\n",
    "%lprun -u 0.000_001 -f Agent_profile Agent_profile() "
   ]
  },
  {
   "cell_type": "code",
   "execution_count": 4,
   "metadata": {},
   "outputs": [
    {
     "name": "stdout",
     "output_type": "stream",
     "text": [
      "\n",
      "*** Profile printout saved to text file 'QstateUnEnt_profile.txt'. \n"
     ]
    },
    {
     "name": "stdout",
     "output_type": "stream",
     "text": [
      "Timer unit: 1e-06 s\n",
      "\n",
      "Total time: 0.006019 s\n",
      "File: /Users/guillermofidalgo/Documents/Scripts/python_scripts/Courses/SE4Sci/QKDP/src/qcrypto/qstates.py\n",
      "Function: measure_all at line 82\n",
      "\n",
      "Line #      Hits         Time  Per Hit   % Time  Line Contents\n",
      "==============================================================\n",
      "    82                                               def measure_all(self, *args: Any) -> npt.NDArray[np.int_]:\n",
      "    83                                                   \"\"\"\n",
      "    84                                                   Measures all of the qubits in sequential order.\n",
      "    85                                           \n",
      "    86                                                   Args:\n",
      "    87                                                       n/a\n",
      "    88                                           \n",
      "    89                                                   Returns:\n",
      "    90                                                       Numpy array containing the outcome of all of the measurements.\n",
      "    91                                           \n",
      "    92                                                   \"\"\"\n",
      "    93         1          1.0      1.0      0.0          outcome = []\n",
      "    94        21         20.0      1.0      0.3          for qubit_idx in range(self.num_qubits):\n",
      "    95        20       5998.0    299.9     99.7              outcome.append(self.measure(qubit_idx=qubit_idx))\n",
      "    96                                                   return np.array(outcome)"
     ]
    }
   ],
   "source": [
    "%lprun -u 0.000_001 -T QstateUnEnt_profile.txt -f public_qstate.measure_all public_qstate.measure_all() "
   ]
  },
  {
   "cell_type": "code",
   "execution_count": 5,
   "metadata": {},
   "outputs": [
    {
     "name": "stdout",
     "output_type": "stream",
     "text": [
      "\n",
      "*** Profile printout saved to text file 'QstateUnEnt_profile.txt'. \n"
     ]
    },
    {
     "name": "stdout",
     "output_type": "stream",
     "text": [
      "Timer unit: 1e-06 s\n",
      "\n",
      "Total time: 0.006056 s\n",
      "File: /Users/guillermofidalgo/Documents/Scripts/python_scripts/Courses/SE4Sci/QKDP/src/qcrypto/qstates.py\n",
      "Function: measure at line 65\n",
      "\n",
      "Line #      Hits         Time  Per Hit   % Time  Line Contents\n",
      "==============================================================\n",
      "    65                                               def measure(self, qubit_idx: int) -> int:\n",
      "    66                                                   \"\"\"\n",
      "    67                                                   Simulates the measurement of a single qubit. As a result, the state of said qubit is collapsed depending on the result.\n",
      "    68                                           \n",
      "    69                                                   Args:\n",
      "    70                                                       qubit_idx (int): Index of the qubit to be measured\n",
      "    71                                           \n",
      "    72                                                   Returns:\n",
      "    73                                                       Outcome of the measurement. Also collapses the state of the qubit.\n",
      "    74                                           \n",
      "    75                                                   \"\"\"\n",
      "    76                                           \n",
      "    77        20        200.0     10.0      3.3          probs_0, probs_1 = self._calculate_measurement_probs(qubit_idx)\n",
      "    78        20       5573.0    278.6     92.0          outcome: int = self.rng().choice([0, 1], p=[probs_0, probs_1])\n",
      "    79        20        236.0     11.8      3.9          self._update_state_post_measurement(qubit_idx, outcome)\n",
      "    80        19         47.0      2.5      0.8          return outcome"
     ]
    }
   ],
   "source": [
    "%lprun -u 0.000_001 -f public_qstate.measure [public_qstate.measure(i) for i in range(numqubits) ]"
   ]
  },
  {
   "cell_type": "code",
   "execution_count": 6,
   "metadata": {},
   "outputs": [],
   "source": [
    "rng1 = np.random.default_rng\n",
    "rng2 = np.random.default_rng()"
   ]
  },
  {
   "cell_type": "code",
   "execution_count": 7,
   "metadata": {},
   "outputs": [
    {
     "name": "stdout",
     "output_type": "stream",
     "text": [
      "63.7 µs ± 10.4 µs per loop (mean ± std. dev. of 7 runs, 10,000 loops each)\n"
     ]
    }
   ],
   "source": [
    "%%timeit \n",
    "rng1().choice([0,1])"
   ]
  },
  {
   "cell_type": "code",
   "execution_count": 8,
   "metadata": {},
   "outputs": [
    {
     "name": "stdout",
     "output_type": "stream",
     "text": [
      "11.5 µs ± 275 ns per loop (mean ± std. dev. of 7 runs, 100,000 loops each)\n"
     ]
    }
   ],
   "source": [
    "%%timeit\n",
    "rng2.choice([0,1])"
   ]
  },
  {
   "cell_type": "markdown",
   "metadata": {},
   "source": [
    "We can only improve this slighly in the Agent, QstateEnt and QstateUnEnt classes if we don't instantiate every call of measure a new RNG Generator."
   ]
  }
 ],
 "metadata": {
  "kernelspec": {
   "display_name": "QKDP",
   "language": "python",
   "name": "python3"
  },
  "language_info": {
   "codemirror_mode": {
    "name": "ipython",
    "version": 3
   },
   "file_extension": ".py",
   "mimetype": "text/x-python",
   "name": "python",
   "nbconvert_exporter": "python",
   "pygments_lexer": "ipython3",
   "version": "3.12.3"
  }
 },
 "nbformat": 4,
 "nbformat_minor": 2
}
