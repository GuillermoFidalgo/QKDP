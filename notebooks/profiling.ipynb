{
 "cells": [
  {
   "cell_type": "code",
   "execution_count": null,
   "metadata": {},
   "outputs": [],
   "source": [
    "from qcrypto.agents import Agent\n",
    "from qcrypto.qstates import QstateEnt, QstateUnEnt\n",
    "from qcrypto.gates import H_gate\n",
    "import numpy as np\n",
    "\n",
    "numqubits = 20\n",
    "public_qstate = QstateUnEnt(init_method=\"random\", num_qubits=numqubits)\n",
    "def Agent_profile():\n",
    "    Alice = Agent()\n",
    "    Alice.set_qstate(qstate=public_qstate,qstate_type='public')\n",
    "    Alice_base_choice = np.random.choice([True, False], size=(numqubits))\n",
    "    Alice_to_gate = np.nonzero(Alice_base_choice)[0]\n",
    "    Alice.apply_gate(qstate_type=\"public\", gate=H_gate, qubit_idx=Alice_to_gate)\n",
    "    Alice.get_key(qstate_type=\"public\")\n",
    "    Alice.apply_gate(qstate_type=\"public\", gate=H_gate, qubit_idx=Alice_to_gate)"
   ]
  },
  {
   "cell_type": "code",
   "execution_count": null,
   "metadata": {},
   "outputs": [],
   "source": [
    "%load_ext line_profiler"
   ]
  },
  {
   "cell_type": "code",
   "execution_count": null,
   "metadata": {},
   "outputs": [],
   "source": [
    "# Running in units of µs\n",
    "\n",
    "%lprun -u 0.000_001 -f Agent_profile Agent_profile() "
   ]
  },
  {
   "cell_type": "code",
   "execution_count": null,
   "metadata": {},
   "outputs": [],
   "source": [
    "%lprun -u 0.000_001 -f public_qstate.measure_all public_qstate.measure_all() "
   ]
  },
  {
   "cell_type": "code",
   "execution_count": null,
   "metadata": {},
   "outputs": [],
   "source": [
    "%lprun -u 0.000_001 -f public_qstate.measure [public_qstate.measure(i) for i in range(numqubits) ]"
   ]
  },
  {
   "cell_type": "code",
   "execution_count": null,
   "metadata": {},
   "outputs": [],
   "source": [
    "rng1 = np.random.default_rng\n",
    "rng2 = np.random.default_rng()"
   ]
  },
  {
   "cell_type": "code",
   "execution_count": null,
   "metadata": {},
   "outputs": [],
   "source": [
    "%%timeit \n",
    "rng1().choice([0,1])"
   ]
  },
  {
   "cell_type": "code",
   "execution_count": null,
   "metadata": {},
   "outputs": [],
   "source": [
    "%%timeit\n",
    "rng2.choice([0,1])"
   ]
  },
  {
   "cell_type": "markdown",
   "metadata": {},
   "source": [
    "We can only improve this slightly in the Agent, QstateEnt and QstateUnEnt classes if we don't instantiate every call of measure a new RNG Generator."
   ]
  }
 ],
 "metadata": {
  "kernelspec": {
   "display_name": "QKDP",
   "language": "python",
   "name": "python3"
  },
  "language_info": {
   "codemirror_mode": {
    "name": "ipython",
    "version": 3
   },
   "file_extension": ".py",
   "mimetype": "text/x-python",
   "name": "python",
   "nbconvert_exporter": "python",
   "pygments_lexer": "ipython3",
   "version": "3.12.3"
  }
 },
 "nbformat": 4,
 "nbformat_minor": 2
}
