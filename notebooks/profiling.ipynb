{
 "cells": [
  {
   "cell_type": "code",
   "execution_count": null,
   "metadata": {},
   "outputs": [],
   "source": [
    "from qcrypto.agents import Agent\n",
    "from qcrypto.qstates import QstateEnt, QstateUnEnt\n",
    "from qcrypto.gates import H_gate\n",
    "import numpy as np\n",
    "\n",
    "\n",
    "\n",
    "def Agent_profile():\n",
    "    Alice = Agent()\n",
    "    Alice.set_qstate(qstate=public_qstate,qstate_type='public')\n",
    "    Alice_base_choice = np.random.choice([True, False], size=(numqubits))\n",
    "    Alice_to_gate = np.nonzero(Alice_base_choice)[0]\n",
    "    Alice.apply_gate(qstate_type=\"public\", gate=H_gate, qubit_idx=Alice_to_gate)\n",
    "    Alice.get_key(qstate_type=\"public\")\n",
    "    Alice.apply_gate(qstate_type=\"public\", gate=H_gate, qubit_idx=Alice_to_gate)"
   ]
  },
  {
   "cell_type": "code",
   "execution_count": null,
   "metadata": {},
   "outputs": [],
   "source": [
    "def BB84(numqubits: int, numcheckbits: int, eve: bool = False):\n",
    "    \"\"\"\n",
    "    Implements the BB84 protocol using qcrypto.\n",
    "\n",
    "    Args:\n",
    "        - numqubits (int): Number of qubits Alice will send to Bob\n",
    "        - numcheckbits (int): Number of bits Alice and Bob will compare through the classical channel\n",
    "        - eve (bool): Whether or not Eve will intrude in Alice and Bob's key exchange\n",
    "\n",
    "    Returns:\n",
    "        Whether or not Eve was discovered, as well as Alice's and Bob's keys at the end of the protocol\n",
    "    \"\"\"\n",
    "\n",
    "    # Initializations\n",
    "\n",
    "    public_qstate = QstateUnEnt(init_method=\"random\", num_qubits=numqubits)\n",
    "\n",
    "    Alice = Agent()\n",
    "    Alice.set_qstate(qstate=public_qstate, qstate_type=\"public\")\n",
    "    Bob = Agent()\n",
    "    Bob.set_qstate(qstate=public_qstate, qstate_type=\"public\")\n",
    "    if eve:\n",
    "        Eve = Agent()\n",
    "        Eve.set_qstate(qstate=public_qstate, qstate_type=\"public\")\n",
    "\n",
    "    # Protocol\n",
    "    \n",
    "    Alice_base_choice = np.random.choice([True, False], size=(numqubits))\n",
    "    Alice_to_gate = np.nonzero(Alice_base_choice)[0]\n",
    "    Alice.apply_gate(qstate_type=\"public\", gate=H_gate, qubit_idx=Alice_to_gate)\n",
    "    Alice.get_key(qstate_type=\"public\")\n",
    "    Alice.apply_gate(qstate_type=\"public\", gate=H_gate, qubit_idx=Alice_to_gate)\n",
    "\n",
    "    if eve:\n",
    "        Eve_base_choice = np.random.choice([True, False], size=(numqubits))\n",
    "        Eve_to_gate = np.nonzero(Eve_base_choice)[0]\n",
    "        Eve.apply_gate(qstate_type=\"public\", gate=H_gate, qubit_idx=Eve_to_gate)\n",
    "        Eve.get_key(qstate_type=\"public\")\n",
    "        Eve.apply_gate(qstate_type=\"public\", gate=H_gate, qubit_idx=Eve_to_gate)\n",
    "\n",
    "    Bob_base_choice = np.random.choice([True, False], size=(numqubits))\n",
    "    Bob_to_gate = np.nonzero(Bob_base_choice)[0]\n",
    "    Bob.apply_gate(qstate_type=\"public\", gate=H_gate, qubit_idx=Bob_to_gate)\n",
    "    Bob.get_key(qstate_type=\"public\")\n",
    "    Bob.apply_gate(qstate_type=\"public\", gate=H_gate, qubit_idx=Bob_to_gate)\n",
    "\n",
    "    # Throwing away bits with diff bases\n",
    "    diff_base_mask = Alice_base_choice == Bob_base_choice\n",
    "\n",
    "    Alice.keys[\"public\"] = Alice.keys[\"public\"][diff_base_mask]\n",
    "    Bob.keys[\"public\"] = Bob.keys[\"public\"][diff_base_mask]\n",
    "\n",
    "    # Alice and Bob communicate check bits \n",
    "    Alice_checkbits = Alice.keys[\"public\"][:numcheckbits]\n",
    "    Bob_checkbits = Bob.keys[\"public\"][:numcheckbits]\n",
    "    \n",
    "    Alice.keys[\"public\"] = Alice.keys[\"public\"][numcheckbits:]\n",
    "    Bob.keys[\"public\"] = Bob.keys[\"public\"][numcheckbits:]\n",
    "\n",
    "    discovered = ~np.all(Alice_checkbits == Bob_checkbits)\n",
    "\n",
    "    return discovered, (Alice.keys[\"public\"], Bob.keys[\"public\"])\n",
    "\n"
   ]
  },
  {
   "cell_type": "code",
   "execution_count": null,
   "metadata": {},
   "outputs": [],
   "source": [
    "num_qubits = 30\n",
    "num_checks = numqubits//2\n",
    "\n",
    "public_qstate = QstateUnEnt(init_method=\"random\", num_qubits=numqubits)\n"
   ]
  },
  {
   "cell_type": "code",
   "execution_count": null,
   "metadata": {},
   "outputs": [],
   "source": [
    "%load_ext line_profiler"
   ]
  },
  {
   "cell_type": "code",
   "execution_count": null,
   "metadata": {},
   "outputs": [],
   "source": [
    "%lprun -u 0.000_001 -T data/BB84_profile.txt -f BB84 BB84(num_qubits, num_checks, eve=True)"
   ]
  },
  {
   "cell_type": "code",
   "execution_count": null,
   "metadata": {},
   "outputs": [],
   "source": [
    "# Running in units of µs\n",
    "%lprun -u 0.000_001 -T data/Agent_profile.txt -f Agent_profile Agent_profile()"
   ]
  },
  {
   "cell_type": "code",
   "execution_count": null,
   "metadata": {},
   "outputs": [],
   "source": [
    "%lprun -u 0.000_001 -T data/qstate_measure_all_profile.txt -f public_qstate.measure_all public_qstate.measure_all() "
   ]
  },
  {
   "cell_type": "code",
   "execution_count": null,
   "metadata": {},
   "outputs": [],
   "source": [
    "%lprun -u 0.000_001 -T data/qstate_measure_profile.txt -f public_qstate.measure [public_qstate.measure(i) for i in range(numqubits) ]"
   ]
  },
  {
   "cell_type": "markdown",
   "metadata": {},
   "source": [
    "The issue seems to be Numpy's `rng.choice` method"
   ]
  },
  {
   "cell_type": "code",
   "execution_count": null,
   "metadata": {},
   "outputs": [],
   "source": [
    "rng = np.random.default_rng()"
   ]
  },
  {
   "cell_type": "code",
   "execution_count": null,
   "metadata": {},
   "outputs": [],
   "source": [
    "%%timeit\n",
    "rng.choice([0,1],p = [.02,.98])"
   ]
  },
  {
   "cell_type": "markdown",
   "metadata": {},
   "source": [
    "There's not much more to improve here now. We would need to either make a faster implementation of NumPy's `rng.choice` method or try Numba.\n",
    "However Numba does not support type annotations yet so will leave it as is."
   ]
  }
 ],
 "metadata": {
  "kernelspec": {
   "display_name": "QKDP",
   "language": "python",
   "name": "python3"
  },
  "language_info": {
   "codemirror_mode": {
    "name": "ipython",
    "version": 3
   },
   "file_extension": ".py",
   "mimetype": "text/x-python",
   "name": "python",
   "nbconvert_exporter": "python",
   "pygments_lexer": "ipython3",
   "version": "3.12.3"
  }
 },
 "nbformat": 4,
 "nbformat_minor": 2
}
