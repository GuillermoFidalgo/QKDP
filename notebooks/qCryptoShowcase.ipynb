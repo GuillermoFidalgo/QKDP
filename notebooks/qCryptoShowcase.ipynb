{
 "cells": [
  {
   "cell_type": "markdown",
   "metadata": {},
   "source": [
    "# `qcrypto` Showcase\n",
    "## Setup"
   ]
  },
  {
   "cell_type": "code",
   "execution_count": null,
   "metadata": {},
   "outputs": [],
   "source": [
    "from qcrypto.simbasics import QstateEnt, QstateUnEnt"
   ]
  },
  {
   "cell_type": "markdown",
   "metadata": {},
   "source": [
    "## Introduction\n",
    "\n",
    "This notebook presents the key features of `qcrypto`, a Python library for the simulation of simple quantum cryptography simulations. The primary classes of this library are `QstateEnt` and `QstateUnEnt`. These classes are used to represent the quantum state of a set of qubits. The former is the most general, with which one is capable of simulating the state of a possibility entangled set of qubits, whereas the latter can only be used to simulate a system of qubits which are definitely unentangled. Despite this limitation, `QstateUnEnt` offers higher performance making it ideal for simpler simulations in which the user only needs to construct a system of unentangled qubits.\n",
    "\n",
    "The way these two classes encode the quantum state is different. \n",
    "\n",
    "## Unentangled State Representation\n",
    "\n",
    "If a set of $N$ qubits are unentangled, and the $i$'th qubit's state is given by $\\ket\\psi_i$, then the state of the system as a whole, $\\ket \\psi$ can be represented as:\n",
    "$$\n",
    "    \\ket\\psi = \\bigotimes_{i=0}^{N} c_i \\ket\\psi_i\n",
    "$$\n",
    "If $\\psi^{(j)}_i$ represents the probability amplitude that the $i$'th qubit will be measured to be in state $\\ket j$, where $j\\in\\{0, 1\\}$, then this can be vectorially represented in the following manner:\n",
    "$$\n",
    "    \\ket\\psi =  \\bigotimes_{i=0}^{N} \\begin{pmatrix} \\psi^{(0)}_i \\\\ \\psi^{(1)}_i \\end{pmatrix}\n",
    "$$\n",
    "`QstateUnEnt` takes advantaged of the separability of the state of each individual qubit by representing the state of the system as a whole as a $N \\times 2$ dimensional numpy array where each row corresponds to a qubit and each column the probability amplitude of each possible state of each individual qubit. Moreover, for simplicity, each qubit state is normalized separately."
   ]
  },
  {
   "cell_type": "code",
   "execution_count": null,
   "metadata": {},
   "outputs": [],
   "source": [
    "# Unentangled set of n qubits\n",
    "N = 5\n",
    "qstateunent = QstateUnEnt(init_method=\"random\", num_qubits=N)\n",
    "qstateunent"
   ]
  },
  {
   "cell_type": "markdown",
   "metadata": {},
   "source": [
    "## Entangled State Representation\n",
    "\n",
    "In the case of a (possibly) entangled set of qubits, `qcrypto` offers the `QstateEnt` class. For entangled qubits it is not possible to represent the state of the system as a whole as a tensor product of the state of each individual qubit. Suppose we have $N$ qubits. In this case, we would represent the state of the system as:\n",
    "$$\n",
    "    \\ket \\psi = \\sum_{x=0}^{2^N -1} c_x \\ket{x_1 x_2 \\dots x_N}\n",
    "$$\n",
    "\n",
    "where $x_i\\in\\{0,1\\}$. This means that a system of 2 qubits would be represented as:\n",
    "\n",
    "$$\n",
    "    \\ket\\psi = c_{0}\\ket{00} + c_{1}\\ket{01} + c_{2}\\ket{10} + c_{3} \\ket{11}\n",
    "$$\n",
    "\n",
    "`QstateEnt` represents such states as a 1D numpy array of length $2^N$."
   ]
  },
  {
   "cell_type": "code",
   "execution_count": null,
   "metadata": {},
   "outputs": [],
   "source": [
    "# Entangled set of n qubits\n",
    "N = 5\n",
    "qstateent = QstateEnt(init_method=\"random\", num_qubits=N)\n",
    "qstateent"
   ]
  },
  {
   "cell_type": "markdown",
   "metadata": {},
   "source": [
    "## Measurements\n",
    "\n",
    "In order to measure a qubit, one can call the `measure` method, which requires the specification of which qubit is to measured, or the `measure_all` method, which measures all of the qubits. For `QstateUnEnt`, `measure_all` simply applies `measure` to all qubits sequentially. However, for `QstateEnt`, because the order of measurement is important, requires the user to specify if the system should be measured simultaneously (all qubits measured at one), or sequentially.\n",
    "\n",
    "When measurements are made, the state of the system is updated in order to reflect the collapse of the quantum state of the system and the method returns the result of the measurement. We can observe that in the following cells."
   ]
  },
  {
   "cell_type": "code",
   "execution_count": null,
   "metadata": {},
   "outputs": [],
   "source": [
    "\"\"\"\n",
    "Measurement of one unentangled qubits\n",
    "Because the states are considered separately, only the qubit that was measured has it state updated.\n",
    "\"\"\"\n",
    "msrmt_rslt = qstateunent.measure(qubit_idx=0)\n",
    "print(f\"Result from measurement: {msrmt_rslt}\")\n",
    "print(\"Updated state:\\n\", qstateunent)"
   ]
  },
  {
   "cell_type": "code",
   "execution_count": null,
   "metadata": {},
   "outputs": [],
   "source": [
    "\"\"\"\n",
    "Measurement of all unentangled qubits\n",
    "\"\"\"\n",
    "all_msrmt_rslt = qstateunent.measure_all()\n",
    "print(f\"Result from measurement: {all_msrmt_rslt}\")\n",
    "print(\"Updated state:\\n\", qstateunent)"
   ]
  },
  {
   "cell_type": "code",
   "execution_count": null,
   "metadata": {},
   "outputs": [],
   "source": [
    "\"\"\"\n",
    "Measurement of one entangled qubits\n",
    "Because the qubits are (possibly) entangled, the post-measurement update is applied to all states.\n",
    "\"\"\"\n",
    "msrmnt_rslt_ent = qstateent.measure(qubit_idx=0)\n",
    "print(f\"Result from measurement: {msrmnt_rslt_ent}\")\n",
    "print(\"Updated state:\\n\", qstateent)"
   ]
  },
  {
   "cell_type": "code",
   "execution_count": null,
   "metadata": {},
   "outputs": [],
   "source": [
    "\"\"\"\n",
    "Measurement of all entangled qubits\n",
    "\"\"\"\n",
    "all_msrmt_rslt_ent = qstateent.measure_all(order=\"simult\")\n",
    "print(f\"Result from measurement: {all_msrmt_rslt_ent}\")\n",
    "print(\"Updated state:\\n\", qstateent)"
   ]
  },
  {
   "cell_type": "markdown",
   "metadata": {},
   "source": [
    "## Gates\n",
    "\n",
    "`qcrypto`'s quantum state classes also include a method named `apply_gate` which, as the name suggests, allows the user to apply a qunatum gate to one or more of the qubits. There are two gates included in the library under the module `qcrypto.gates`, namely the Hadamard and Pauli gates, but more can defined by the user by simply construction an appropriate 2D numpy array.\n",
    "\n",
    "As an example of the application of gates, we can apply the Hadamard gate which is given by\n",
    "$$\n",
    "    H = \\frac{1}{\\sqrt{2}}\\begin{pmatrix}\n",
    "        1 &  1\\\\\n",
    "        1 & -1\\\\\n",
    "    \\end{pmatrix}\n",
    "$$"
   ]
  },
  {
   "cell_type": "code",
   "execution_count": null,
   "metadata": {},
   "outputs": [],
   "source": [
    "from qcrypto.gates import H_gate"
   ]
  },
  {
   "cell_type": "code",
   "execution_count": null,
   "metadata": {},
   "outputs": [],
   "source": [
    "\"\"\"\n",
    "Application the H gate to the unentangled qubits\n",
    "Note that, given the limitations of this class in only being able to represent unentangled sets,\n",
    "gates which create entangled states will not work. \n",
    "\"\"\"\n",
    "print(qstateunent)\n",
    "qstateunent.apply_gate(H_gate)\n",
    "print(f\"H * state = \\n {qstateunent}\")\n",
    "qstateunent.apply_gate(H_gate)\n",
    "print(f\"H * H * state = \\n {qstateunent}\")"
   ]
  },
  {
   "cell_type": "code",
   "execution_count": null,
   "metadata": {},
   "outputs": [],
   "source": [
    "qubit_idx = 2\n",
    "qstateunent.apply_gate(H_gate, qubit_idx)\n",
    "print(f\"H * state_{qubit_idx} = \\n {qstateunent}\")\n"
   ]
  },
  {
   "cell_type": "code",
   "execution_count": null,
   "metadata": {},
   "outputs": [],
   "source": [
    "qubit_idx = [0, 3]\n",
    "qstateunent.apply_gate(H_gate, qubit_idx)\n",
    "print(f\"H * state_{qubit_idx} = \\n {qstateunent}\")"
   ]
  },
  {
   "cell_type": "code",
   "execution_count": null,
   "metadata": {},
   "outputs": [],
   "source": [
    "\"\"\"\n",
    "Application the H gate to the entangled qubits\n",
    "Because the qubits are entangled, only the application of gates to the system as a whole is permitted.\n",
    "\"\"\"\n",
    "print(f\"state = \\n {qstateent}\")\n",
    "qstateent.apply_gate(H_gate)\n",
    "print(f\"H * state = \\n {qstateent}\")"
   ]
  },
  {
   "cell_type": "markdown",
   "metadata": {},
   "source": [
    "## Agent\n",
    "In order to represent the \"player\" in quantum cryptography simulations, `qcrypto` includes the class `Agent`. In summary, this class:\n",
    "* Can store two `Qstate` objects, one intended to be public (i.e. accessible by other agents), and one private (i.e. meant to only be accessible by the agent in its possession)\n",
    "* Can generate a public/private keys through the measurement of the public/private `Qstate` and is able to store them\n",
    "* Can apply gates the public/private quantum states\n",
    "* Can measure individual public/private qubits\n",
    "\n",
    "In order to properly showcase its functionality, please refer to the `BB84.ipynb` file which includes the simulation of the BB84 quantum key distribution scheme using this class. "
   ]
  }
 ],
 "metadata": {
  "kernelspec": {
   "display_name": "venv",
   "language": "python",
   "name": "python3"
  },
  "language_info": {
   "codemirror_mode": {
    "name": "ipython",
    "version": 3
   },
   "file_extension": ".py",
   "mimetype": "text/x-python",
   "name": "python",
   "nbconvert_exporter": "python",
   "pygments_lexer": "ipython3",
   "version": "3.11.6"
  }
 },
 "nbformat": 4,
 "nbformat_minor": 2
}
