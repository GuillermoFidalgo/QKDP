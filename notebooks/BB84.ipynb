{
 "cells": [
  {
   "cell_type": "markdown",
   "metadata": {
    "colab_type": "text",
    "id": "lLtgnw6Q5TSD"
   },
   "source": [
    "# BB84  protocol\n",
    "\n",
    "BB84 is a simple qunatum cryptography protocol meeant to take advantage of two maximally incompatible bases to safely distribute keys. The basic procedure is as follows\n",
    "\n",
    "* Alice prepares a set of $N$ qubits by measuring their state in one of two maximally incompatible bases chosen at random. Typically, the chosen bases are the Hadamard and computational bases. Through this process, she generates a pseudo-key.\n",
    "* Alice sends her qubits to Bob through a quantum communication channel.\n",
    "* Once Bob receives the qubits, he measures them. However, because he does not know which of the two bases Alice used for each of the qubits, he measures each qubit by randomly selecting between the two incompatible bases. After this, he has his own pseudo-key.\n",
    "* Alice and Bob exchange the bases they used for each qubit through a classical channel and throw away all the bits in their respective pseudo-keys for which they did not match.\n",
    "* To check if there was any tampering of the qubits when they were sent, Alice and Bob choose a mutually agreed subset of their keys' bits through the classical channel. If any qubit does not match, they will have uncovered the intruder.\n",
    "\n",
    "If Eve had intecepted the qubits as Alice was sending them to Bob, she would be in the same position as Bob: because she does not know the basis Alice used for each of the qubits, she would have to random select one of the two. This means that, as Alice and Bob are comparing their check bits, there is a chance that they will find a discrepancy, thus revealing Eve's presence. The probability of this happening is given by the following considerations:\n",
    "* There is a $50\\%$ chance that Eve chose the wrong bases for a particular qubit.\n",
    "* There is a $50\\%$ chance that Bob's measurement does not match Alice's for a particular qubit if the qubit was tampered with by Eve.\n",
    "* Therefore, there is a $25\\%$ chance that Eve will be discovered if Alice and Bob compare that particular qubit.\n",
    "\n",
    "Thus, the probability of Eve being discovered if Alice and Bob compare $n$ bits is\n",
    "\n",
    "$$\n",
    "    P(n) = 1 - \\left(\\frac34\\right)^n\n",
    "$$\n",
    "\n",
    "The following function implements this protocol using `qcrypto`."
   ]
  },
  {
   "cell_type": "code",
   "execution_count": null,
   "metadata": {},
   "outputs": [],
   "source": [
    "from qcrypto.simbasics import QstateUnEnt, QstateEnt, Agent\n",
    "from qcrypto.gates import H_gate\n",
    "import numpy as np\n",
    "import matplotlib.pyplot as plt\n",
    "from scipy.optimize import curve_fit"
   ]
  },
  {
   "cell_type": "code",
   "execution_count": null,
   "metadata": {},
   "outputs": [],
   "source": [
    "def BB84(numqubits: int, numcheckbits: int, eve: bool = False):\n",
    "    \"\"\"\n",
    "    Implements the BB84 protocol using qcrypto.\n",
    "\n",
    "    Args:\n",
    "        - numqubits (int): Number of qubits Alice will send to Bob\n",
    "        - numcheckbits (int): Number of bits Alice and Bob will compare through the classical channel\n",
    "        - eve (bool): Whether or not Eve will intrude in Alice and Bob's key exchange\n",
    "\n",
    "    Returns:\n",
    "        Whether or not Eve was discovered, as well as Alice's and Bob's keys at the end of the protocol\n",
    "    \"\"\"\n",
    "\n",
    "    # Initializations\n",
    "\n",
    "    public_qstate = QstateUnEnt(init_method=\"random\", num_qubits=numqubits)\n",
    "\n",
    "    Alice = Agent()\n",
    "    Alice.set_qstate(qstate=public_qstate, qstate_type=\"public\")\n",
    "    Bob = Agent()\n",
    "    Bob.set_qstate(qstate=public_qstate, qstate_type=\"public\")\n",
    "    if eve:\n",
    "        Eve = Agent()\n",
    "        Eve.set_qstate(qstate=public_qstate, qstate_type=\"public\")\n",
    "\n",
    "    # Protocol\n",
    "    \n",
    "    Alice_base_choice = np.random.choice([True, False], size=(numqubits))\n",
    "    Alice_to_gate = np.nonzero(Alice_base_choice)[0]\n",
    "    Alice.apply_gate(qstate_type=\"public\", gate=H_gate, qubit_idx=Alice_to_gate)\n",
    "    Alice.get_key(qstate_type=\"public\")\n",
    "    Alice.apply_gate(qstate_type=\"public\", gate=H_gate, qubit_idx=Alice_to_gate)\n",
    "\n",
    "    if eve:\n",
    "        Eve_base_choice = np.random.choice([True, False], size=(numqubits))\n",
    "        Eve_to_gate = np.nonzero(Eve_base_choice)[0]\n",
    "        Eve.apply_gate(qstate_type=\"public\", gate=H_gate, qubit_idx=Eve_to_gate)\n",
    "        Eve.get_key(qstate_type=\"public\")\n",
    "        Eve.apply_gate(qstate_type=\"public\", gate=H_gate, qubit_idx=Eve_to_gate)\n",
    "\n",
    "    Bob_base_choice = np.random.choice([True, False], size=(numqubits))\n",
    "    Bob_to_gate = np.nonzero(Bob_base_choice)[0]\n",
    "    Bob.apply_gate(qstate_type=\"public\", gate=H_gate, qubit_idx=Bob_to_gate)\n",
    "    Bob.get_key(qstate_type=\"public\")\n",
    "    Bob.apply_gate(qstate_type=\"public\", gate=H_gate, qubit_idx=Bob_to_gate)\n",
    "\n",
    "    # Throwing away bits with diff bases\n",
    "    diff_base_mask = Alice_base_choice == Bob_base_choice\n",
    "\n",
    "    Alice.keys[\"public\"] = Alice.keys[\"public\"][diff_base_mask]\n",
    "    Bob.keys[\"public\"] = Bob.keys[\"public\"][diff_base_mask]\n",
    "\n",
    "    # Alice and Bob communicate check bits \n",
    "    Alice_checkbits = Alice.keys[\"public\"][:numcheckbits]\n",
    "    Bob_checkbits = Bob.keys[\"public\"][:numcheckbits]\n",
    "    \n",
    "    Alice.keys[\"public\"] = Alice.keys[\"public\"][numcheckbits:]\n",
    "    Bob.keys[\"public\"] = Bob.keys[\"public\"][numcheckbits:]\n",
    "\n",
    "    discovered = ~np.all(Alice_checkbits == Bob_checkbits)\n",
    "\n",
    "    return discovered, (Alice.keys[\"public\"], Bob.keys[\"public\"])"
   ]
  },
  {
   "cell_type": "code",
   "execution_count": null,
   "metadata": {},
   "outputs": [],
   "source": [
    "def run_trial(num_checks, num_qubits, eve_present=True):\n",
    "    detected, _ = BB84(num_qubits, num_checks, eve=eve_present)\n",
    "    return detected"
   ]
  },
  {
   "cell_type": "code",
   "execution_count": null,
   "metadata": {},
   "outputs": [],
   "source": [
    "numqubits = 25\n",
    "nchecks_lst = np.arange(numqubits//2)\n",
    "probs = [] \n",
    "numtrials = 1000\n",
    "\n",
    "for nchecks in nchecks_lst:\n",
    "    detections = 0\n",
    "    for _ in range(numtrials):\n",
    "        detected = run_trial(nchecks, numqubits, eve_present=True)\n",
    "        detections += detected\n",
    "    prob = detections / numtrials\n",
    "    probs.append(prob)   "
   ]
  },
  {
   "cell_type": "code",
   "execution_count": null,
   "metadata": {},
   "outputs": [],
   "source": [
    "def prob_func(x, p):\n",
    "    return 1 - (p)**x\n",
    "\n",
    "param, param_cov = curve_fit(prob_func, nchecks_lst, probs)\n",
    "\n",
    "plt.errorbar(y=probs, x=nchecks_lst, yerr=[1/np.sqrt(numtrials)]*len(probs), fmt=\".\", capsize=3, label=\"Computed Probability\")\n",
    "plt.plot(nchecks_lst, prob_func(nchecks_lst, param), label=r\"P = 1 - ({})$^n$\".format(round(param[0], 3)))\n",
    "plt.plot(nchecks_lst, prob_func(nchecks_lst, 3/4), label=r\"P = 1 - $(3/4)^n$\".format(round(param[0], 3)))\n",
    "\n",
    "plt.title(r\"Probability of Eve being detected (Eve)\")\n",
    "plt.xlabel(r\"Number of checkbits ($n_{\\mathrm{check}}$)\")\n",
    "plt.ylabel(r\"$P_{\\mathrm{detection}}(n_{\\mathrm{check}}\\ |\\ \\mathrm{Eve})$\")\n",
    "plt.ylim(0, 1)\n",
    "plt.legend()\n",
    "plt.grid()\n",
    "plt.savefig(\"../plots_BB84/Eve.png\")\n",
    "plt.show()"
   ]
  },
  {
   "cell_type": "code",
   "execution_count": null,
   "metadata": {},
   "outputs": [],
   "source": [
    "numqubits = 25\n",
    "nchecks_lst = np.arange(numqubits//3)\n",
    "probs = [] \n",
    "numtrials = 1000\n",
    "\n",
    "def run_trial(num_checks, num_qubits, eve_present=True):\n",
    "    detected, _ = BB84(num_qubits, num_checks, eve=eve_present)\n",
    "    return detected\n",
    "\n",
    "for nchecks in nchecks_lst:\n",
    "    detections = 0\n",
    "    for _ in range(numtrials):\n",
    "        detected = run_trial(nchecks, numqubits, eve_present=False)\n",
    "        detections += detected\n",
    "    prob = detections / numtrials\n",
    "    probs.append(prob)   "
   ]
  },
  {
   "cell_type": "code",
   "execution_count": null,
   "metadata": {},
   "outputs": [],
   "source": [
    "plt.errorbar(y=probs, x=nchecks_lst, yerr=[1/np.sqrt(numtrials)]*len(probs), fmt=\".\", capsize=3, label=\"Computed Probability\")\n",
    "\n",
    "plt.title(r\"Probability of Eve being detected (No Eve)\")\n",
    "plt.xlabel(r\"Number of checkbits ($n_{\\mathrm{check}}$)\")\n",
    "plt.ylabel(r\"$P_{\\mathrm{detection}}(n_{\\mathrm{check}}\\ |\\ \\mathrm{\\text{No Eve}})$\")\n",
    "plt.ylim(0, 1)\n",
    "plt.legend()\n",
    "plt.grid()\n",
    "plt.savefig(\"../plots_BB84/NoEve.png\")\n",
    "plt.show()"
   ]
  }
 ],
 "metadata": {
  "accelerator": "GPU",
  "colab": {
   "collapsed_sections": [],
   "include_colab_link": true,
   "name": "Guillo-BB84.ipynb",
   "private_outputs": true,
   "provenance": []
  },
  "kernelspec": {
   "display_name": "Python 3",
   "language": "python",
   "name": "python3"
  },
  "language_info": {
   "codemirror_mode": {
    "name": "ipython",
    "version": 3
   },
   "file_extension": ".py",
   "mimetype": "text/x-python",
   "name": "python",
   "nbconvert_exporter": "python",
   "pygments_lexer": "ipython3",
   "version": "3.11.6"
  }
 },
 "nbformat": 4,
 "nbformat_minor": 4
}
