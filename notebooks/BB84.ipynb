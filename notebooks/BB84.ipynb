{
 "cells": [
  {
   "cell_type": "markdown",
   "metadata": {
    "colab_type": "text",
    "id": "lLtgnw6Q5TSD"
   },
   "source": [
    "# Code for BB84  protocol"
   ]
  },
  {
   "cell_type": "code",
   "execution_count": 1,
   "metadata": {},
   "outputs": [],
   "source": [
    "# Setup\n",
    "import numpy as np\n",
    "import matplotlib.pyplot as plt\n",
    "import random\n",
    "import string\n",
    "import os\n",
    "import dataclasses\n",
    "import sys\n",
    "from copy import copy\n",
    "from qcrypto.simbasics import *\n",
    "import numba"
   ]
  },
  {
   "cell_type": "code",
   "execution_count": 6,
   "metadata": {},
   "outputs": [
    {
     "name": "stdout",
     "output_type": "stream",
     "text": [
      "\u001b[0;31mDocstring:\u001b[0m\n",
      "getattr(object, name[, default]) -> value\n",
      "\n",
      "Get a named attribute from an object; getattr(x, 'y') is equivalent to x.y.\n",
      "When a default argument is given, it is returned when the attribute doesn't\n",
      "exist; without it, an exception is raised in that case.\n",
      "\u001b[0;31mType:\u001b[0m      builtin_function_or_method"
     ]
    }
   ],
   "source": [
    "getattr?"
   ]
  },
  {
   "cell_type": "code",
   "execution_count": 2,
   "metadata": {},
   "outputs": [],
   "source": [
    "def BB84(numqubits, numcheckbits, eve=False):\n",
    "    # Alice initializations\n",
    "    Alice = Agent(priv_qbittype=\"unentangled\", num_priv_qubits=numqubits)\n",
    "    Alice_base_choice = np.random.choice([1, 0], size=(numqubits))\n",
    "    Alice_key = []\n",
    "\n",
    "    for qubit_idx in range(numqubits):\n",
    "        if Alice_base_choice[qubit_idx] == 1: # If 1, apply H gate and measure\n",
    "            Alice.priv_qstates.apply_gate(H_gate, qubit_idx=qubit_idx)\n",
    "            Alice_key.append(Alice.measure(\"private\", qubit_idx=qubit_idx))\n",
    "            Alice.priv_qstates.apply_gate(H_gate, qubit_idx=qubit_idx) # Re-apply gate to return to comp basis\n",
    "        else: # If 0 just measure\n",
    "            Alice_key.append(Alice.measure(\"private\", qubit_idx=qubit_idx)) \n",
    "    Alice_key = np.array(Alice_key)\n",
    "    \n",
    "    Bob = Agent(priv_qstates=copy(Alice.priv_qstates))\n",
    "    Bob_base_choice = np.random.choice([1, 0], size=(numqubits))\n",
    "    Bob_key = []\n",
    "\n",
    "    for qubit_idx in range(numqubits):\n",
    "        if Bob_base_choice[qubit_idx] == 1:\n",
    "            Bob.priv_qstates.apply_gate(H_gate, qubit_idx=qubit_idx)\n",
    "            Bob_key.append(Bob.measure(\"private\", qubit_idx=qubit_idx))\n",
    "            Bob.priv_qstates.apply_gate(H_gate, qubit_idx=qubit_idx)\n",
    "        else:\n",
    "            Bob_key.append(Bob.measure(\"private\", qubit_idx=qubit_idx))\n",
    "    Bob_key = np.array(Bob_key)\n",
    "\n",
    "    Alice_Bob_base_check = Alice_base_choice == Bob_base_choice\n",
    "    Alice_key = Alice_key[Alice_Bob_base_check]\n",
    "    Bob_key = Bob_key[Alice_Bob_base_check]\n",
    "\n",
    "    Alice_check = Alice_key[:numcheckbits]\n",
    "    Bob_check = Bob_key[:numcheckbits]\n",
    "\n",
    "    discovered = not (Alice_check == Bob_check).all()\n",
    "\n",
    "    Alice_key = Alice_key[numcheckbits:]\n",
    "    Bob_key = Bob_key[numcheckbits:]\n",
    "\n",
    "    return discovered, (Alice_key, Bob_key)"
   ]
  },
  {
   "cell_type": "code",
   "execution_count": 3,
   "metadata": {},
   "outputs": [
    {
     "name": "stdout",
     "output_type": "stream",
     "text": [
      "False\n",
      "[0 1 1 ... 0 1 0]\n",
      "[0 1 1 ... 0 1 0]\n"
     ]
    }
   ],
   "source": [
    "discovered, (Alice_key, Bob_key) = BB84(100_000, 200, eve=False)\n",
    "print(discovered)\n",
    "print(Alice_key)\n",
    "print(Bob_key)"
   ]
  },
  {
   "cell_type": "code",
   "execution_count": 4,
   "metadata": {},
   "outputs": [],
   "source": [
    "numqubits = 50\n",
    "nchecks_lst = np.arange(numqubits//2)\n",
    "probs = [] \n",
    "numtrials = 1000\n",
    "\n",
    "def run_trial(nchecks, eve_present=True):\n",
    "    if eve_present:\n",
    "        detected, _ = BB84(numqubits, nchecks, eve=True)\n",
    "    else:\n",
    "        detected, _ = BB84(numqubits, nchecks, eve=False)\n",
    "    return detected\n",
    "\n",
    "for nchecks in nchecks_lst:\n",
    "    temp = 0\n",
    "    for _ in range(numtrials):\n",
    "        detected = run_trial(nchecks, numqubits)\n",
    "        if detected: temp += 1\n",
    "    prob = temp / numtrials\n",
    "    probs.append(prob)   "
   ]
  },
  {
   "cell_type": "code",
   "execution_count": 5,
   "metadata": {},
   "outputs": [
    {
     "data": {
      "image/png": "[encoded data removed]",
      "text/plain": [
       "<Figure size 640x480 with 1 Axes>"
      ]
     },
     "metadata": {},
     "output_type": "display_data"
    }
   ],
   "source": [
    "plt.scatter(nchecks_lst, probs, s=0.01)\n",
    "plt.xlabel(r\"Number of checkbits ($n_{\\mathrm{check}}$)\")\n",
    "plt.ylabel(r\"$P_{\\mathrm{detection}}(n_{\\mathrm{check}}\\ |\\ \\mathrm{no\\;Eve})$\")\n",
    "plt.title(r\"Probability of Eve being detected (No Eve)\")\n",
    "plt.ylim(0, 1)\n",
    "plt.errorbar(y=probs, x=nchecks_lst, yerr=[1/np.sqrt(numtrials)]*len(probs), fmt=\".\", capsize=3)\n",
    "plt.grid()\n",
    "plt.show()"
   ]
  }
 ],
 "metadata": {
  "accelerator": "GPU",
  "colab": {
   "collapsed_sections": [],
   "include_colab_link": true,
   "name": "Guillo-BB84.ipynb",
   "private_outputs": true,
   "provenance": []
  },
  "kernelspec": {
   "display_name": "Python 3",
   "language": "python",
   "name": "python3"
  },
  "language_info": {
   "codemirror_mode": {
    "name": "ipython",
    "version": 3
   },
   "file_extension": ".py",
   "mimetype": "text/x-python",
   "name": "python",
   "nbconvert_exporter": "python",
   "pygments_lexer": "ipython3",
   "version": "3.11.6"
  }
 },
 "nbformat": 4,
 "nbformat_minor": 4
}
