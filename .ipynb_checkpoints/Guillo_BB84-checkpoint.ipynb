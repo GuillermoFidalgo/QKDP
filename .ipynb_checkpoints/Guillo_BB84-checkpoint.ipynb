{
 "cells": [
  {
   "cell_type": "markdown",
   "metadata": {
    "colab_type": "text",
    "id": "lLtgnw6Q5TSD"
   },
   "source": [
    "# Code for BB84  protocol"
   ]
  },
  {
   "cell_type": "code",
   "execution_count": null,
   "metadata": {
    "colab": {},
    "colab_type": "code",
    "id": "aaYg6KE37ZhM"
   },
   "outputs": [],
   "source": [
    "import numpy as np\n",
    "import matplotlib.pyplot as plt\n",
    "import random\n",
    "import string\n",
    "import os\n",
    "# %%matpotlib inline\n",
    "#Function for assigning Standard (s) or Hadamard (h) measurement basis\n",
    "def randomString(stringLength=2):\n",
    "    \"\"\"Generate a random string of fixed length \"\"\"\n",
    "    basis = 'sh'\n",
    "    return ''.join(random.choice(basis) for i in range(stringLength))\n",
    "\n",
    "#Function for executing the BB84 protocol using n qubits and N check-bits\n",
    "def BB84(n,N,Strings=False):\n",
    "    \"\"\"Doctrings\n",
    "    BB84(n,N)\n",
    "    \n",
    "    n: Number of bits to be used for the key\n",
    "    \n",
    "    N: Number of bits to be checked\n",
    "    \n",
    "    Stings: Default False. If True, return Alice's , Bob's and Eve's :\n",
    "    1- initial bit strings\n",
    "    2- keys\n",
    "    3- initial basis used\n",
    "    4- check bit sequence\n",
    "    --------\n",
    "    Returns\n",
    "    \n",
    "    R: A list of strings of \"OK\" and \"ABORT\" that indicate when Eve has been detected\n",
    "       the amount of the OK's and Abort's will tell you the percentage of discovering Eve for one simulation\n",
    "       \n",
    "    a=[]  #Alice's bitstring\n",
    "    b=[]  #Bob's bitstring\n",
    "    e=[]  #Eve's bitstring\n",
    "    x=[]  #Alice's key\n",
    "    y=[]  #Bob's key\n",
    "    z=[]  #Eve's key\n",
    "    \n",
    "    aa=[] Alice's s-h assignment\n",
    "    bb=[] Bob's s-h assignment\n",
    "    ee=[] Eve's s-h assignment\n",
    "    \n",
    "     xx=[] #Alice's check-bits sequence\n",
    "     yy=[] #Bob's check-bits sequence\n",
    "    \n",
    "    R=[]  #Results of Eve's detection\n",
    "    \n",
    "    \n",
    "    \"\"\"\n",
    "    a=[]  #Alice's bitstring\n",
    "    b=[]  #Bob's bitstring\n",
    "    e=[]  #Eve's bitstring\n",
    "    x=[]  #Alice's key\n",
    "    y=[]  #Bob's key\n",
    "    z=[]  #Eve's key\n",
    "    \n",
    "    aa=randomString(n)  #Alice's s-h assignment\n",
    "    bb=randomString(n)  #Bob's s-h assignment\n",
    "    ee=randomString(n)  #Eve's s-h assignment\n",
    "\n",
    "    #Generate a,b,e and x,y,z\n",
    "    for i in range(n):\n",
    "        a.append(random.randint(0,1))\n",
    "        if ee[i]==aa[i]:\n",
    "            e.append(a[i])\n",
    "        else:\n",
    "            e.append(random.randint(0,1))\n",
    "        if bb[i]==ee[i]:\n",
    "            b.append(e[i])\n",
    "        else:\n",
    "            b.append(random.randint(0,1))\n",
    "        if aa[i]==bb[i]:\n",
    "            x.append(a[i])\n",
    "            y.append(b[i])\n",
    "            z.append(e[i])\n",
    "\n",
    "    R=[]  #Results of Eve's detection\n",
    "\n",
    "    for j in N:\n",
    "        s=random.sample(range(len(x)),j)  #Choice of check-bits\n",
    "        xx=[] #Alice's check-bits sequence\n",
    "        yy=[] #Bob's check-bits sequence\n",
    "        for i in range(j):  #Generate xx,yy\n",
    "            xx.append(x[s[i]])\n",
    "            yy.append(y[s[i]])\n",
    "        if xx!=yy:  #Check for Eve's presence\n",
    "            R.append('ABORT')  #Eve detected\n",
    "        else:\n",
    "            R.append('OK')     #Eve not detected\n",
    "    if Strings==False:\n",
    "        return R\n",
    "    if Strings==True:\n",
    "        return a,b,e,aa,bb,ee,x,y,z,xx,yy,s,R"
   ]
  },
  {
   "cell_type": "markdown",
   "metadata": {
    "colab_type": "text",
    "id": "U_CrPCAapEl0"
   },
   "source": [
    "# One instance of BB84"
   ]
  },
  {
   "cell_type": "code",
   "execution_count": null,
   "metadata": {
    "colab": {},
    "colab_type": "code",
    "id": "HZJvQuZguExY"
   },
   "outputs": [],
   "source": [
    "a,b,e,aa,bb,ee,x,y,z,xx,yy,s,R=BB84(128,range(3),Strings=True)\n",
    "  # if s[0]>60:\n",
    "print(\"Alice's Check sequence: \",xx)\n",
    "print(\"Bob's Check sequence:   \",yy)\n",
    "print('qubits checked are # :  ',s)\n",
    "print(\"Result of Simulation: \",R[-1])"
   ]
  },
  {
   "cell_type": "code",
   "execution_count": null,
   "metadata": {
    "colab": {},
    "colab_type": "code",
    "id": "XwlFNXZoNctp"
   },
   "outputs": [],
   "source": [
    "for i in range(2000):\n",
    "  a,b,e,aa,bb,ee,x,y,z,xx,yy,s,R=BB84(128,range(3),Strings=True)\n",
    "  if s[1]>70:\n",
    "    print(\"Alice's Check sequence: \",xx)\n",
    "    print(\"Bob's Check sequence:   \",yy)\n",
    "    print('qubits checked are # :  ',s)\n",
    "    print(\"Result of Simulation: \",R[-1])"
   ]
  },
  {
   "cell_type": "code",
   "execution_count": null,
   "metadata": {
    "colab": {},
    "colab_type": "code",
    "id": "UKyUQ9FmpEmA"
   },
   "outputs": [],
   "source": [
    "print(\"Alice's keys: \",x)\n",
    "print(\"Bobs's keys: \",y)\n",
    "print(\"Eve's keys: \",z)\n",
    "print(\"Alice's Basis: \",aa)\n",
    "print(\"Bobs's Basis: \",bb)\n",
    "print(\"Eve's Basis: \",ee)"
   ]
  },
  {
   "cell_type": "markdown",
   "metadata": {
    "colab_type": "text",
    "id": "vTY8tJQ2TyVe"
   },
   "source": [
    "# Simulation of the BB84 protocol"
   ]
  },
  {
   "cell_type": "code",
   "execution_count": null,
   "metadata": {
    "colab": {},
    "colab_type": "code",
    "id": "068zU_X2Q3kR"
   },
   "outputs": [],
   "source": [
    "k=450 #Number of iterations of BB84\n",
    "n=128 #Number of qubits\n",
    "N=np.arange(1,16) #Number of check-bits\n",
    "\n",
    "dist=np.empty([k,len(N)]) #Probability distribution\n",
    "\n",
    "#Generate dist,avrg\n",
    "for j in range(k):  #Loop for generating dist\n",
    "  abort=np.zeros(len(N),int) #Number of ABORT\n",
    "  for i in range(k):  #Loop for executing BB84\n",
    "    R=BB84(n,N)\n",
    "    for m in range(len(R)): #Loop for each N\n",
    "      if R[m]=='ABORT': #Check for ABORT results\n",
    "        abort[m]+=1\n",
    "    pabort=abort/k  #Experimental probability of ABORT\n",
    "  dist[j]=pabort\n",
    "avrg=np.mean(dist,axis=0) #Average of each column of dist"
   ]
  },
  {
   "cell_type": "code",
   "execution_count": null,
   "metadata": {
    "colab": {},
    "colab_type": "code",
    "id": "aWGubbflJ516",
    "scrolled": true
   },
   "outputs": [],
   "source": [
    "dist"
   ]
  },
  {
   "cell_type": "code",
   "execution_count": null,
   "metadata": {
    "colab": {},
    "colab_type": "code",
    "id": "4hM9LGxJQgvF"
   },
   "outputs": [],
   "source": [
    "avrg"
   ]
  },
  {
   "cell_type": "markdown",
   "metadata": {
    "colab_type": "text",
    "id": "oJXty6UKzw1W"
   },
   "source": [
    "# Now we use Matplotlib's hist function to draw a distribution \n",
    "\n",
    "and see what is the average value of finding Eve for the given parameters.\n",
    "\n"
   ]
  },
  {
   "cell_type": "markdown",
   "metadata": {},
   "source": [
    "## For one plot"
   ]
  },
  {
   "cell_type": "code",
   "execution_count": null,
   "metadata": {
    "colab": {},
    "colab_type": "code",
    "id": "02ceqNtfyHBd",
    "scrolled": false
   },
   "outputs": [],
   "source": [
    "#Where to store the plots\n",
    "outpath='plots_BB84'\n",
    "\n",
    "#Check if folder exists\n",
    "if outpath not in os.listdir():\n",
    "    os.mkdir(outpath)\n",
    "else: \n",
    "    print(outpath,'already exits!')\n",
    "\n",
    "#How many qubits to inspect\n",
    "qb=10\n",
    "\n",
    "#Configuration for the plots\n",
    "start = 0\n",
    "stop  = 1\n",
    "step  = .05\n",
    "bins=np.linspace(start, stop, num=250)\n",
    "    \n",
    "    \n",
    "#Making 1 single plot\n",
    "#Specifing qb changes the plot\n",
    "plt.figure(num=qb,figsize=(16,9),)\n",
    "count,val,_=plt.hist(dist[:,qb-1],bins=bins,align='left',histtype='step' )\n",
    "# Min,Max=val[0],val[-1]\n",
    "# ticks=np.arange(Min,Max,step=.01)\n",
    "# ll=['%.3f' %a for a in val]\n",
    "plt.xticks(np.arange(start, stop+step, step))\n",
    "# plt.xticks(ticks=val[::18],labels=ll[::18])\n",
    "plt.xlabel('Probability of discovering Eve when using %i check-bits' %N[qb-1])\n",
    "plt.ylabel('Frequency')\n",
    "plt.xlim(0.01,1.0)\n",
    "plt.title('BB84 protocol using %i qubits'%n)\n",
    "plt.savefig(outpath+'/'+'BB84-dist with %i check-bits'%N[qb-1],dpi=200)\n",
    "plt.show()\n",
    "plt.close()\n"
   ]
  },
  {
   "cell_type": "markdown",
   "metadata": {},
   "source": [
    "## For all plots individually"
   ]
  },
  {
   "cell_type": "code",
   "execution_count": null,
   "metadata": {
    "scrolled": true
   },
   "outputs": [],
   "source": [
    "for qb in range(len(N)):\n",
    "    count,val=[],[]\n",
    "    plt.figure(num=qb,figsize=(16,9))\n",
    "    count,val,_=plt.hist(dist[:,qb],bins=bins,align='left',histtype='step' )\n",
    "    plt.xticks(np.arange(start, stop+step, step))\n",
    "    plt.xlabel('Probability of discovering Eve when using %i check-bits' %N[qb])\n",
    "    plt.ylabel('Frequency')\n",
    "    plt.xlim(0.01,1.0)\n",
    "    plt.title('BB84 protocol using %i qubits'%n)\n",
    "    plt.savefig(outpath+'/'+'BB84-dist with %i check-bits'%N[qb],dpi=500)\n",
    "    plt.show()\n",
    "    plt.close()"
   ]
  },
  {
   "cell_type": "markdown",
   "metadata": {},
   "source": [
    "## A Closer look"
   ]
  },
  {
   "cell_type": "code",
   "execution_count": null,
   "metadata": {
    "colab": {},
    "colab_type": "code",
    "id": "kNiJ0v5Gz9xr"
   },
   "outputs": [],
   "source": [
    "for qb in range(len(N)):\n",
    "    count,val=[],[]\n",
    "    plt.figure(num=qb,figsize=(16,9))\n",
    "    count,val,_=plt.hist(dist[:,qb],bins=50,align='left',histtype='step' )\n",
    "    ll=['%.3f' %a for a in val]\n",
    "    plt.xticks(ticks=val[::3],labels=ll[::3])\n",
    "    plt.xlabel('Probability of discovering Eve when using %i check-bits' %N[qb])\n",
    "    plt.ylabel('Frequency')\n",
    "#     plt.xlim(0.1,1)\n",
    "    plt.title('BB84 protocol using %i qubits'%n)\n",
    "    plt.savefig(outpath+'/'+'CloserLook_BB84-dist with %i check-bits'%N[qb],dpi=500)\n",
    "    plt.show()\n",
    "    plt.close()\n",
    "  \n"
   ]
  },
  {
   "cell_type": "markdown",
   "metadata": {},
   "source": [
    "## A few of them together"
   ]
  },
  {
   "cell_type": "code",
   "execution_count": null,
   "metadata": {
    "colab": {},
    "colab_type": "code",
    "id": "eiYWP0vPyl8N"
   },
   "outputs": [],
   "source": [
    "plt.figure(figsize=(16,9))\n",
    "start = 0\n",
    "stop  = 1\n",
    "step  = .05\n",
    "bins=np.linspace(start, stop, num=250)\n",
    "\n",
    "for qb in range(1,len(N),4):\n",
    "  # count,val=[],[]  \n",
    "  count,val,_=plt.hist(dist[:,qb],align='left',histtype='step',label='Probability using %i check-bits' %N[qb],bins=bins )\n",
    "plt.xticks(np.arange(start, stop+step, step))\n",
    "plt.xlabel('Probability of discovering Eve')\n",
    "plt.ylabel('Frequency')\n",
    "plt.xlim(0.05,1.0)\n",
    "# plt.grid(axis='x')\n",
    "plt.legend(bbox_to_anchor=(0.75, -0.07),ncol=2,shadow=True)\n",
    "plt.title('BB84 protocol using %i qubits'%n)\n",
    "plt.savefig(outpath+'/'+'BB84-dist-superimposed',dpi=500)\n",
    "plt.show()"
   ]
  },
  {
   "cell_type": "code",
   "execution_count": null,
   "metadata": {
    "colab": {},
    "colab_type": "code",
    "id": "GK4ZCi7--GMl"
   },
   "outputs": [],
   "source": [
    "c=list(count)\n",
    "maxprobindex=c.index(max(c))\n",
    "val[maxprobindex]"
   ]
  },
  {
   "cell_type": "code",
   "execution_count": null,
   "metadata": {
    "colab": {},
    "colab_type": "code",
    "id": "eKB5yZeQpEm3",
    "scrolled": true
   },
   "outputs": [],
   "source": [
    "# print(p)\n",
    "P=1-(.75)**N\n",
    "print(P)\n",
    "# print(np.e)"
   ]
  },
  {
   "cell_type": "code",
   "execution_count": null,
   "metadata": {
    "colab": {},
    "colab_type": "code",
    "id": "zxbNjYlMpEm7"
   },
   "outputs": [],
   "source": [
    "rse=np.sqrt((avrg-P)**2)\n",
    "print('rse: \\n',rse)\n",
    "Error=avrg-P\n",
    "print(\"Error: \\n\",Error)\n",
    "\n",
    "abserr=np.abs(avrg-P)\n",
    "print('abserr: \\n',abserr)\n",
    "\n",
    "print('Is root squared error same as absolute error?:\\n', rse==abserr)"
   ]
  },
  {
   "cell_type": "code",
   "execution_count": null,
   "metadata": {
    "colab": {},
    "colab_type": "code",
    "id": "tiurWrLX-61y"
   },
   "outputs": [],
   "source": [
    "# for i in range(len(N)):\n",
    "# count,val=[],[]\n",
    "plt.figure(figsize=(16,9))\n",
    "plt.bar(N,avrg)\n",
    "plt.plot(N,avrg,'--k')\n",
    "plt.plot(N,P,'sk')\n",
    "plt.xticks(ticks=N)\n",
    "plt.yticks(ticks=np.arange(start,stop+step,2*step))\n",
    "plt.xlabel('Number of Check-bits')\n",
    "plt.ylabel('Average Prob of Discovering Eve')\n",
    "plt.title('BB84 Protocol when varying amount of check-bits')\n",
    "plt.grid(axis='y',color='r',linestyle='--',alpha=.7)\n",
    "plt.savefig(outpath+'/'+'BB84-prob-per-Check-bits',dpi=500)\n",
    "plt.show()\n"
   ]
  },
  {
   "cell_type": "code",
   "execution_count": null,
   "metadata": {
    "colab": {},
    "colab_type": "code",
    "id": "N7q4jc1ou0G9"
   },
   "outputs": [],
   "source": []
  }
 ],
 "metadata": {
  "accelerator": "GPU",
  "colab": {
   "collapsed_sections": [],
   "name": "Guillo-BB84.ipynb",
   "private_outputs": true,
   "provenance": []
  },
  "kernelspec": {
   "display_name": "Python 3",
   "language": "python",
   "name": "python3"
  },
  "language_info": {
   "codemirror_mode": {
    "name": "ipython",
    "version": 3
   },
   "file_extension": ".py",
   "mimetype": "text/x-python",
   "name": "python",
   "nbconvert_exporter": "python",
   "pygments_lexer": "ipython3",
   "version": "3.7.6"
  }
 },
 "nbformat": 4,
 "nbformat_minor": 1
}
